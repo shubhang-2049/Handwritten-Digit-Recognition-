{
  "nbformat": 4,
  "nbformat_minor": 0,
  "metadata": {
    "colab": {
      "name": "Minor-2_Self_Digits.ipynb",
      "provenance": [],
      "collapsed_sections": [],
      "toc_visible": true
    },
    "kernelspec": {
      "name": "python3",
      "display_name": "Python 3"
    },
    "accelerator": "GPU"
  },
  "cells": [
    {
      "cell_type": "markdown",
      "metadata": {
        "id": "W9hBd17O0hzA"
      },
      "source": [
        "## **Importing Libraries**"
      ]
    },
    {
      "cell_type": "code",
      "metadata": {
        "id": "1mtDHtonQ70P"
      },
      "source": [
        "\n",
        "# for linear algebra\n",
        "import numpy as np \n",
        "# for data processing\n",
        "import pandas as pd\n",
        "# for performing mathematical task \n",
        "import math\n",
        "# for colormaps\n",
        "import matplotlib.cm as cm \n",
        "# for plots\n",
        "import matplotlib.pyplot as plt\n",
        "import glob\n",
        "from PIL import Image,ImageOps\n"
      ],
      "execution_count": 1,
      "outputs": []
    },
    {
      "cell_type": "markdown",
      "metadata": {
        "id": "b9tD7bmq0zCJ"
      },
      "source": [
        "## **Importing dataset**"
      ]
    },
    {
      "cell_type": "code",
      "metadata": {
        "colab": {
          "base_uri": "https://localhost:8080/"
        },
        "id": "U0DA49GN7A-O",
        "outputId": "f97a1aba-890e-4e19-9655-b082ca544a47"
      },
      "source": [
        "from google.colab import drive\n",
        "drive.mount('drive')"
      ],
      "execution_count": 2,
      "outputs": [
        {
          "output_type": "stream",
          "text": [
            "Drive already mounted at drive; to attempt to forcibly remount, call drive.mount(\"drive\", force_remount=True).\n"
          ],
          "name": "stdout"
        }
      ]
    },
    {
      "cell_type": "code",
      "metadata": {
        "id": "v3juSo7a7A-d"
      },
      "source": [
        "train = pd.read_csv(\"drive/My Drive/Minor 2/train.csv\")\n",
        "test= pd.read_csv(\"drive/My Drive/Minor 2/test.csv\")\n",
        "validation=pd.read_csv(\"drive/My Drive/Minor 2/val_own_digits.csv\")"
      ],
      "execution_count": 3,
      "outputs": []
    },
    {
      "cell_type": "markdown",
      "metadata": {
        "id": "HcZz9FNk04rh"
      },
      "source": [
        "## **Data Insights**"
      ]
    },
    {
      "cell_type": "markdown",
      "metadata": {
        "id": "x5X8-5Wm1Kwt"
      },
      "source": [
        "**Shape of data**"
      ]
    },
    {
      "cell_type": "code",
      "metadata": {
        "colab": {
          "base_uri": "https://localhost:8080/"
        },
        "id": "iN56ZD5W7zoS",
        "outputId": "9092b706-2a39-4db2-f360-886f8ec6c726"
      },
      "source": [
        "print(\"Shape of train data\",train.shape)\n",
        "print(\"Shape of test data\", test.shape)"
      ],
      "execution_count": 4,
      "outputs": [
        {
          "output_type": "stream",
          "text": [
            "Shape of train data (42000, 785)\n",
            "Shape of test data (28000, 784)\n"
          ],
          "name": "stdout"
        }
      ]
    },
    {
      "cell_type": "code",
      "metadata": {
        "colab": {
          "base_uri": "https://localhost:8080/"
        },
        "id": "9fMdviD4BUd3",
        "outputId": "13ed9785-dd08-4ead-f1d1-fa63a4c2fb08"
      },
      "source": [
        "validation.shape"
      ],
      "execution_count": 5,
      "outputs": [
        {
          "output_type": "execute_result",
          "data": {
            "text/plain": [
              "(10, 784)"
            ]
          },
          "metadata": {
            "tags": []
          },
          "execution_count": 5
        }
      ]
    },
    {
      "cell_type": "code",
      "metadata": {
        "colab": {
          "base_uri": "https://localhost:8080/",
          "height": 244
        },
        "id": "ANWq3IhE8EvP",
        "outputId": "e4547e22-a053-4f32-e4e2-0f843774eee4"
      },
      "source": [
        "train.head(5)"
      ],
      "execution_count": 6,
      "outputs": [
        {
          "output_type": "execute_result",
          "data": {
            "text/html": [
              "<div>\n",
              "<style scoped>\n",
              "    .dataframe tbody tr th:only-of-type {\n",
              "        vertical-align: middle;\n",
              "    }\n",
              "\n",
              "    .dataframe tbody tr th {\n",
              "        vertical-align: top;\n",
              "    }\n",
              "\n",
              "    .dataframe thead th {\n",
              "        text-align: right;\n",
              "    }\n",
              "</style>\n",
              "<table border=\"1\" class=\"dataframe\">\n",
              "  <thead>\n",
              "    <tr style=\"text-align: right;\">\n",
              "      <th></th>\n",
              "      <th>label</th>\n",
              "      <th>pixel0</th>\n",
              "      <th>pixel1</th>\n",
              "      <th>pixel2</th>\n",
              "      <th>pixel3</th>\n",
              "      <th>pixel4</th>\n",
              "      <th>pixel5</th>\n",
              "      <th>pixel6</th>\n",
              "      <th>pixel7</th>\n",
              "      <th>pixel8</th>\n",
              "      <th>pixel9</th>\n",
              "      <th>pixel10</th>\n",
              "      <th>pixel11</th>\n",
              "      <th>pixel12</th>\n",
              "      <th>pixel13</th>\n",
              "      <th>pixel14</th>\n",
              "      <th>pixel15</th>\n",
              "      <th>pixel16</th>\n",
              "      <th>pixel17</th>\n",
              "      <th>pixel18</th>\n",
              "      <th>pixel19</th>\n",
              "      <th>pixel20</th>\n",
              "      <th>pixel21</th>\n",
              "      <th>pixel22</th>\n",
              "      <th>pixel23</th>\n",
              "      <th>pixel24</th>\n",
              "      <th>pixel25</th>\n",
              "      <th>pixel26</th>\n",
              "      <th>pixel27</th>\n",
              "      <th>pixel28</th>\n",
              "      <th>pixel29</th>\n",
              "      <th>pixel30</th>\n",
              "      <th>pixel31</th>\n",
              "      <th>pixel32</th>\n",
              "      <th>pixel33</th>\n",
              "      <th>pixel34</th>\n",
              "      <th>pixel35</th>\n",
              "      <th>pixel36</th>\n",
              "      <th>pixel37</th>\n",
              "      <th>pixel38</th>\n",
              "      <th>...</th>\n",
              "      <th>pixel744</th>\n",
              "      <th>pixel745</th>\n",
              "      <th>pixel746</th>\n",
              "      <th>pixel747</th>\n",
              "      <th>pixel748</th>\n",
              "      <th>pixel749</th>\n",
              "      <th>pixel750</th>\n",
              "      <th>pixel751</th>\n",
              "      <th>pixel752</th>\n",
              "      <th>pixel753</th>\n",
              "      <th>pixel754</th>\n",
              "      <th>pixel755</th>\n",
              "      <th>pixel756</th>\n",
              "      <th>pixel757</th>\n",
              "      <th>pixel758</th>\n",
              "      <th>pixel759</th>\n",
              "      <th>pixel760</th>\n",
              "      <th>pixel761</th>\n",
              "      <th>pixel762</th>\n",
              "      <th>pixel763</th>\n",
              "      <th>pixel764</th>\n",
              "      <th>pixel765</th>\n",
              "      <th>pixel766</th>\n",
              "      <th>pixel767</th>\n",
              "      <th>pixel768</th>\n",
              "      <th>pixel769</th>\n",
              "      <th>pixel770</th>\n",
              "      <th>pixel771</th>\n",
              "      <th>pixel772</th>\n",
              "      <th>pixel773</th>\n",
              "      <th>pixel774</th>\n",
              "      <th>pixel775</th>\n",
              "      <th>pixel776</th>\n",
              "      <th>pixel777</th>\n",
              "      <th>pixel778</th>\n",
              "      <th>pixel779</th>\n",
              "      <th>pixel780</th>\n",
              "      <th>pixel781</th>\n",
              "      <th>pixel782</th>\n",
              "      <th>pixel783</th>\n",
              "    </tr>\n",
              "  </thead>\n",
              "  <tbody>\n",
              "    <tr>\n",
              "      <th>0</th>\n",
              "      <td>1</td>\n",
              "      <td>0</td>\n",
              "      <td>0</td>\n",
              "      <td>0</td>\n",
              "      <td>0</td>\n",
              "      <td>0</td>\n",
              "      <td>0</td>\n",
              "      <td>0</td>\n",
              "      <td>0</td>\n",
              "      <td>0</td>\n",
              "      <td>0</td>\n",
              "      <td>0</td>\n",
              "      <td>0</td>\n",
              "      <td>0</td>\n",
              "      <td>0</td>\n",
              "      <td>0</td>\n",
              "      <td>0</td>\n",
              "      <td>0</td>\n",
              "      <td>0</td>\n",
              "      <td>0</td>\n",
              "      <td>0</td>\n",
              "      <td>0</td>\n",
              "      <td>0</td>\n",
              "      <td>0</td>\n",
              "      <td>0</td>\n",
              "      <td>0</td>\n",
              "      <td>0</td>\n",
              "      <td>0</td>\n",
              "      <td>0</td>\n",
              "      <td>0</td>\n",
              "      <td>0</td>\n",
              "      <td>0</td>\n",
              "      <td>0</td>\n",
              "      <td>0</td>\n",
              "      <td>0</td>\n",
              "      <td>0</td>\n",
              "      <td>0</td>\n",
              "      <td>0</td>\n",
              "      <td>0</td>\n",
              "      <td>0</td>\n",
              "      <td>...</td>\n",
              "      <td>0</td>\n",
              "      <td>0</td>\n",
              "      <td>0</td>\n",
              "      <td>0</td>\n",
              "      <td>0</td>\n",
              "      <td>0</td>\n",
              "      <td>0</td>\n",
              "      <td>0</td>\n",
              "      <td>0</td>\n",
              "      <td>0</td>\n",
              "      <td>0</td>\n",
              "      <td>0</td>\n",
              "      <td>0</td>\n",
              "      <td>0</td>\n",
              "      <td>0</td>\n",
              "      <td>0</td>\n",
              "      <td>0</td>\n",
              "      <td>0</td>\n",
              "      <td>0</td>\n",
              "      <td>0</td>\n",
              "      <td>0</td>\n",
              "      <td>0</td>\n",
              "      <td>0</td>\n",
              "      <td>0</td>\n",
              "      <td>0</td>\n",
              "      <td>0</td>\n",
              "      <td>0</td>\n",
              "      <td>0</td>\n",
              "      <td>0</td>\n",
              "      <td>0</td>\n",
              "      <td>0</td>\n",
              "      <td>0</td>\n",
              "      <td>0</td>\n",
              "      <td>0</td>\n",
              "      <td>0</td>\n",
              "      <td>0</td>\n",
              "      <td>0</td>\n",
              "      <td>0</td>\n",
              "      <td>0</td>\n",
              "      <td>0</td>\n",
              "    </tr>\n",
              "    <tr>\n",
              "      <th>1</th>\n",
              "      <td>0</td>\n",
              "      <td>0</td>\n",
              "      <td>0</td>\n",
              "      <td>0</td>\n",
              "      <td>0</td>\n",
              "      <td>0</td>\n",
              "      <td>0</td>\n",
              "      <td>0</td>\n",
              "      <td>0</td>\n",
              "      <td>0</td>\n",
              "      <td>0</td>\n",
              "      <td>0</td>\n",
              "      <td>0</td>\n",
              "      <td>0</td>\n",
              "      <td>0</td>\n",
              "      <td>0</td>\n",
              "      <td>0</td>\n",
              "      <td>0</td>\n",
              "      <td>0</td>\n",
              "      <td>0</td>\n",
              "      <td>0</td>\n",
              "      <td>0</td>\n",
              "      <td>0</td>\n",
              "      <td>0</td>\n",
              "      <td>0</td>\n",
              "      <td>0</td>\n",
              "      <td>0</td>\n",
              "      <td>0</td>\n",
              "      <td>0</td>\n",
              "      <td>0</td>\n",
              "      <td>0</td>\n",
              "      <td>0</td>\n",
              "      <td>0</td>\n",
              "      <td>0</td>\n",
              "      <td>0</td>\n",
              "      <td>0</td>\n",
              "      <td>0</td>\n",
              "      <td>0</td>\n",
              "      <td>0</td>\n",
              "      <td>0</td>\n",
              "      <td>...</td>\n",
              "      <td>0</td>\n",
              "      <td>0</td>\n",
              "      <td>0</td>\n",
              "      <td>0</td>\n",
              "      <td>0</td>\n",
              "      <td>0</td>\n",
              "      <td>0</td>\n",
              "      <td>0</td>\n",
              "      <td>0</td>\n",
              "      <td>0</td>\n",
              "      <td>0</td>\n",
              "      <td>0</td>\n",
              "      <td>0</td>\n",
              "      <td>0</td>\n",
              "      <td>0</td>\n",
              "      <td>0</td>\n",
              "      <td>0</td>\n",
              "      <td>0</td>\n",
              "      <td>0</td>\n",
              "      <td>0</td>\n",
              "      <td>0</td>\n",
              "      <td>0</td>\n",
              "      <td>0</td>\n",
              "      <td>0</td>\n",
              "      <td>0</td>\n",
              "      <td>0</td>\n",
              "      <td>0</td>\n",
              "      <td>0</td>\n",
              "      <td>0</td>\n",
              "      <td>0</td>\n",
              "      <td>0</td>\n",
              "      <td>0</td>\n",
              "      <td>0</td>\n",
              "      <td>0</td>\n",
              "      <td>0</td>\n",
              "      <td>0</td>\n",
              "      <td>0</td>\n",
              "      <td>0</td>\n",
              "      <td>0</td>\n",
              "      <td>0</td>\n",
              "    </tr>\n",
              "    <tr>\n",
              "      <th>2</th>\n",
              "      <td>1</td>\n",
              "      <td>0</td>\n",
              "      <td>0</td>\n",
              "      <td>0</td>\n",
              "      <td>0</td>\n",
              "      <td>0</td>\n",
              "      <td>0</td>\n",
              "      <td>0</td>\n",
              "      <td>0</td>\n",
              "      <td>0</td>\n",
              "      <td>0</td>\n",
              "      <td>0</td>\n",
              "      <td>0</td>\n",
              "      <td>0</td>\n",
              "      <td>0</td>\n",
              "      <td>0</td>\n",
              "      <td>0</td>\n",
              "      <td>0</td>\n",
              "      <td>0</td>\n",
              "      <td>0</td>\n",
              "      <td>0</td>\n",
              "      <td>0</td>\n",
              "      <td>0</td>\n",
              "      <td>0</td>\n",
              "      <td>0</td>\n",
              "      <td>0</td>\n",
              "      <td>0</td>\n",
              "      <td>0</td>\n",
              "      <td>0</td>\n",
              "      <td>0</td>\n",
              "      <td>0</td>\n",
              "      <td>0</td>\n",
              "      <td>0</td>\n",
              "      <td>0</td>\n",
              "      <td>0</td>\n",
              "      <td>0</td>\n",
              "      <td>0</td>\n",
              "      <td>0</td>\n",
              "      <td>0</td>\n",
              "      <td>0</td>\n",
              "      <td>...</td>\n",
              "      <td>0</td>\n",
              "      <td>0</td>\n",
              "      <td>0</td>\n",
              "      <td>0</td>\n",
              "      <td>0</td>\n",
              "      <td>0</td>\n",
              "      <td>0</td>\n",
              "      <td>0</td>\n",
              "      <td>0</td>\n",
              "      <td>0</td>\n",
              "      <td>0</td>\n",
              "      <td>0</td>\n",
              "      <td>0</td>\n",
              "      <td>0</td>\n",
              "      <td>0</td>\n",
              "      <td>0</td>\n",
              "      <td>0</td>\n",
              "      <td>0</td>\n",
              "      <td>0</td>\n",
              "      <td>0</td>\n",
              "      <td>0</td>\n",
              "      <td>0</td>\n",
              "      <td>0</td>\n",
              "      <td>0</td>\n",
              "      <td>0</td>\n",
              "      <td>0</td>\n",
              "      <td>0</td>\n",
              "      <td>0</td>\n",
              "      <td>0</td>\n",
              "      <td>0</td>\n",
              "      <td>0</td>\n",
              "      <td>0</td>\n",
              "      <td>0</td>\n",
              "      <td>0</td>\n",
              "      <td>0</td>\n",
              "      <td>0</td>\n",
              "      <td>0</td>\n",
              "      <td>0</td>\n",
              "      <td>0</td>\n",
              "      <td>0</td>\n",
              "    </tr>\n",
              "    <tr>\n",
              "      <th>3</th>\n",
              "      <td>4</td>\n",
              "      <td>0</td>\n",
              "      <td>0</td>\n",
              "      <td>0</td>\n",
              "      <td>0</td>\n",
              "      <td>0</td>\n",
              "      <td>0</td>\n",
              "      <td>0</td>\n",
              "      <td>0</td>\n",
              "      <td>0</td>\n",
              "      <td>0</td>\n",
              "      <td>0</td>\n",
              "      <td>0</td>\n",
              "      <td>0</td>\n",
              "      <td>0</td>\n",
              "      <td>0</td>\n",
              "      <td>0</td>\n",
              "      <td>0</td>\n",
              "      <td>0</td>\n",
              "      <td>0</td>\n",
              "      <td>0</td>\n",
              "      <td>0</td>\n",
              "      <td>0</td>\n",
              "      <td>0</td>\n",
              "      <td>0</td>\n",
              "      <td>0</td>\n",
              "      <td>0</td>\n",
              "      <td>0</td>\n",
              "      <td>0</td>\n",
              "      <td>0</td>\n",
              "      <td>0</td>\n",
              "      <td>0</td>\n",
              "      <td>0</td>\n",
              "      <td>0</td>\n",
              "      <td>0</td>\n",
              "      <td>0</td>\n",
              "      <td>0</td>\n",
              "      <td>0</td>\n",
              "      <td>0</td>\n",
              "      <td>0</td>\n",
              "      <td>...</td>\n",
              "      <td>0</td>\n",
              "      <td>0</td>\n",
              "      <td>0</td>\n",
              "      <td>0</td>\n",
              "      <td>0</td>\n",
              "      <td>0</td>\n",
              "      <td>0</td>\n",
              "      <td>0</td>\n",
              "      <td>0</td>\n",
              "      <td>0</td>\n",
              "      <td>0</td>\n",
              "      <td>0</td>\n",
              "      <td>0</td>\n",
              "      <td>0</td>\n",
              "      <td>0</td>\n",
              "      <td>0</td>\n",
              "      <td>0</td>\n",
              "      <td>0</td>\n",
              "      <td>0</td>\n",
              "      <td>0</td>\n",
              "      <td>0</td>\n",
              "      <td>0</td>\n",
              "      <td>0</td>\n",
              "      <td>0</td>\n",
              "      <td>0</td>\n",
              "      <td>0</td>\n",
              "      <td>0</td>\n",
              "      <td>0</td>\n",
              "      <td>0</td>\n",
              "      <td>0</td>\n",
              "      <td>0</td>\n",
              "      <td>0</td>\n",
              "      <td>0</td>\n",
              "      <td>0</td>\n",
              "      <td>0</td>\n",
              "      <td>0</td>\n",
              "      <td>0</td>\n",
              "      <td>0</td>\n",
              "      <td>0</td>\n",
              "      <td>0</td>\n",
              "    </tr>\n",
              "    <tr>\n",
              "      <th>4</th>\n",
              "      <td>0</td>\n",
              "      <td>0</td>\n",
              "      <td>0</td>\n",
              "      <td>0</td>\n",
              "      <td>0</td>\n",
              "      <td>0</td>\n",
              "      <td>0</td>\n",
              "      <td>0</td>\n",
              "      <td>0</td>\n",
              "      <td>0</td>\n",
              "      <td>0</td>\n",
              "      <td>0</td>\n",
              "      <td>0</td>\n",
              "      <td>0</td>\n",
              "      <td>0</td>\n",
              "      <td>0</td>\n",
              "      <td>0</td>\n",
              "      <td>0</td>\n",
              "      <td>0</td>\n",
              "      <td>0</td>\n",
              "      <td>0</td>\n",
              "      <td>0</td>\n",
              "      <td>0</td>\n",
              "      <td>0</td>\n",
              "      <td>0</td>\n",
              "      <td>0</td>\n",
              "      <td>0</td>\n",
              "      <td>0</td>\n",
              "      <td>0</td>\n",
              "      <td>0</td>\n",
              "      <td>0</td>\n",
              "      <td>0</td>\n",
              "      <td>0</td>\n",
              "      <td>0</td>\n",
              "      <td>0</td>\n",
              "      <td>0</td>\n",
              "      <td>0</td>\n",
              "      <td>0</td>\n",
              "      <td>0</td>\n",
              "      <td>0</td>\n",
              "      <td>...</td>\n",
              "      <td>0</td>\n",
              "      <td>0</td>\n",
              "      <td>0</td>\n",
              "      <td>0</td>\n",
              "      <td>0</td>\n",
              "      <td>0</td>\n",
              "      <td>0</td>\n",
              "      <td>0</td>\n",
              "      <td>0</td>\n",
              "      <td>0</td>\n",
              "      <td>0</td>\n",
              "      <td>0</td>\n",
              "      <td>0</td>\n",
              "      <td>0</td>\n",
              "      <td>0</td>\n",
              "      <td>0</td>\n",
              "      <td>0</td>\n",
              "      <td>0</td>\n",
              "      <td>0</td>\n",
              "      <td>0</td>\n",
              "      <td>0</td>\n",
              "      <td>0</td>\n",
              "      <td>0</td>\n",
              "      <td>0</td>\n",
              "      <td>0</td>\n",
              "      <td>0</td>\n",
              "      <td>0</td>\n",
              "      <td>0</td>\n",
              "      <td>0</td>\n",
              "      <td>0</td>\n",
              "      <td>0</td>\n",
              "      <td>0</td>\n",
              "      <td>0</td>\n",
              "      <td>0</td>\n",
              "      <td>0</td>\n",
              "      <td>0</td>\n",
              "      <td>0</td>\n",
              "      <td>0</td>\n",
              "      <td>0</td>\n",
              "      <td>0</td>\n",
              "    </tr>\n",
              "  </tbody>\n",
              "</table>\n",
              "<p>5 rows × 785 columns</p>\n",
              "</div>"
            ],
            "text/plain": [
              "   label  pixel0  pixel1  pixel2  ...  pixel780  pixel781  pixel782  pixel783\n",
              "0      1       0       0       0  ...         0         0         0         0\n",
              "1      0       0       0       0  ...         0         0         0         0\n",
              "2      1       0       0       0  ...         0         0         0         0\n",
              "3      4       0       0       0  ...         0         0         0         0\n",
              "4      0       0       0       0  ...         0         0         0         0\n",
              "\n",
              "[5 rows x 785 columns]"
            ]
          },
          "metadata": {
            "tags": []
          },
          "execution_count": 6
        }
      ]
    },
    {
      "cell_type": "code",
      "metadata": {
        "colab": {
          "base_uri": "https://localhost:8080/",
          "height": 392
        },
        "id": "DziHdqOOoZED",
        "outputId": "464d1520-919b-42d5-c833-14e903938e1d"
      },
      "source": [
        "validation.head(10)"
      ],
      "execution_count": 7,
      "outputs": [
        {
          "output_type": "execute_result",
          "data": {
            "text/html": [
              "<div>\n",
              "<style scoped>\n",
              "    .dataframe tbody tr th:only-of-type {\n",
              "        vertical-align: middle;\n",
              "    }\n",
              "\n",
              "    .dataframe tbody tr th {\n",
              "        vertical-align: top;\n",
              "    }\n",
              "\n",
              "    .dataframe thead th {\n",
              "        text-align: right;\n",
              "    }\n",
              "</style>\n",
              "<table border=\"1\" class=\"dataframe\">\n",
              "  <thead>\n",
              "    <tr style=\"text-align: right;\">\n",
              "      <th></th>\n",
              "      <th>0</th>\n",
              "      <th>1</th>\n",
              "      <th>2</th>\n",
              "      <th>3</th>\n",
              "      <th>4</th>\n",
              "      <th>5</th>\n",
              "      <th>6</th>\n",
              "      <th>7</th>\n",
              "      <th>8</th>\n",
              "      <th>9</th>\n",
              "      <th>10</th>\n",
              "      <th>11</th>\n",
              "      <th>12</th>\n",
              "      <th>13</th>\n",
              "      <th>14</th>\n",
              "      <th>15</th>\n",
              "      <th>16</th>\n",
              "      <th>17</th>\n",
              "      <th>18</th>\n",
              "      <th>19</th>\n",
              "      <th>20</th>\n",
              "      <th>21</th>\n",
              "      <th>22</th>\n",
              "      <th>23</th>\n",
              "      <th>24</th>\n",
              "      <th>25</th>\n",
              "      <th>26</th>\n",
              "      <th>27</th>\n",
              "      <th>28</th>\n",
              "      <th>29</th>\n",
              "      <th>30</th>\n",
              "      <th>31</th>\n",
              "      <th>32</th>\n",
              "      <th>33</th>\n",
              "      <th>34</th>\n",
              "      <th>35</th>\n",
              "      <th>36</th>\n",
              "      <th>37</th>\n",
              "      <th>38</th>\n",
              "      <th>39</th>\n",
              "      <th>...</th>\n",
              "      <th>744</th>\n",
              "      <th>745</th>\n",
              "      <th>746</th>\n",
              "      <th>747</th>\n",
              "      <th>748</th>\n",
              "      <th>749</th>\n",
              "      <th>750</th>\n",
              "      <th>751</th>\n",
              "      <th>752</th>\n",
              "      <th>753</th>\n",
              "      <th>754</th>\n",
              "      <th>755</th>\n",
              "      <th>756</th>\n",
              "      <th>757</th>\n",
              "      <th>758</th>\n",
              "      <th>759</th>\n",
              "      <th>760</th>\n",
              "      <th>761</th>\n",
              "      <th>762</th>\n",
              "      <th>763</th>\n",
              "      <th>764</th>\n",
              "      <th>765</th>\n",
              "      <th>766</th>\n",
              "      <th>767</th>\n",
              "      <th>768</th>\n",
              "      <th>769</th>\n",
              "      <th>770</th>\n",
              "      <th>771</th>\n",
              "      <th>772</th>\n",
              "      <th>773</th>\n",
              "      <th>774</th>\n",
              "      <th>775</th>\n",
              "      <th>776</th>\n",
              "      <th>777</th>\n",
              "      <th>778</th>\n",
              "      <th>779</th>\n",
              "      <th>780</th>\n",
              "      <th>781</th>\n",
              "      <th>782</th>\n",
              "      <th>783</th>\n",
              "    </tr>\n",
              "  </thead>\n",
              "  <tbody>\n",
              "    <tr>\n",
              "      <th>0</th>\n",
              "      <td>0.0</td>\n",
              "      <td>0.0</td>\n",
              "      <td>0.0</td>\n",
              "      <td>0.0</td>\n",
              "      <td>0.0</td>\n",
              "      <td>0.0</td>\n",
              "      <td>0.0</td>\n",
              "      <td>0.0</td>\n",
              "      <td>0.000000</td>\n",
              "      <td>0.000000</td>\n",
              "      <td>0.000000</td>\n",
              "      <td>0.000000</td>\n",
              "      <td>0.000000</td>\n",
              "      <td>0.000000</td>\n",
              "      <td>0.000000</td>\n",
              "      <td>0.000000</td>\n",
              "      <td>0.0</td>\n",
              "      <td>0.0</td>\n",
              "      <td>0.0</td>\n",
              "      <td>0.0</td>\n",
              "      <td>0.0</td>\n",
              "      <td>0.000000</td>\n",
              "      <td>0.000000</td>\n",
              "      <td>0.0</td>\n",
              "      <td>0.0</td>\n",
              "      <td>0.0</td>\n",
              "      <td>0.0</td>\n",
              "      <td>0.0</td>\n",
              "      <td>0.0</td>\n",
              "      <td>0.0</td>\n",
              "      <td>0.0</td>\n",
              "      <td>0.0</td>\n",
              "      <td>0.0</td>\n",
              "      <td>0.0</td>\n",
              "      <td>0.0</td>\n",
              "      <td>0.0</td>\n",
              "      <td>0.000000</td>\n",
              "      <td>0.000000</td>\n",
              "      <td>0.0</td>\n",
              "      <td>0.000000</td>\n",
              "      <td>...</td>\n",
              "      <td>0.0</td>\n",
              "      <td>0.0</td>\n",
              "      <td>0.0</td>\n",
              "      <td>0.0</td>\n",
              "      <td>0.0</td>\n",
              "      <td>0.0</td>\n",
              "      <td>0.0</td>\n",
              "      <td>0.0</td>\n",
              "      <td>0.0</td>\n",
              "      <td>0.0</td>\n",
              "      <td>0.0</td>\n",
              "      <td>0.0</td>\n",
              "      <td>0.000000</td>\n",
              "      <td>0.0</td>\n",
              "      <td>0.0</td>\n",
              "      <td>0.0</td>\n",
              "      <td>0.0</td>\n",
              "      <td>0.000000</td>\n",
              "      <td>0.000000</td>\n",
              "      <td>0.0</td>\n",
              "      <td>0.000000</td>\n",
              "      <td>0.0</td>\n",
              "      <td>0.0</td>\n",
              "      <td>0.000000</td>\n",
              "      <td>0.000000</td>\n",
              "      <td>0.000000</td>\n",
              "      <td>0.000000</td>\n",
              "      <td>0.0</td>\n",
              "      <td>0.0</td>\n",
              "      <td>0.0</td>\n",
              "      <td>0.0</td>\n",
              "      <td>0.0</td>\n",
              "      <td>0.0</td>\n",
              "      <td>0.0</td>\n",
              "      <td>0.0</td>\n",
              "      <td>0.0</td>\n",
              "      <td>0.0</td>\n",
              "      <td>0.0</td>\n",
              "      <td>0.0</td>\n",
              "      <td>0.0</td>\n",
              "    </tr>\n",
              "    <tr>\n",
              "      <th>1</th>\n",
              "      <td>0.0</td>\n",
              "      <td>0.0</td>\n",
              "      <td>0.0</td>\n",
              "      <td>0.0</td>\n",
              "      <td>0.0</td>\n",
              "      <td>0.0</td>\n",
              "      <td>0.0</td>\n",
              "      <td>0.0</td>\n",
              "      <td>0.000000</td>\n",
              "      <td>0.000000</td>\n",
              "      <td>0.000000</td>\n",
              "      <td>0.000000</td>\n",
              "      <td>0.000000</td>\n",
              "      <td>0.000000</td>\n",
              "      <td>0.000000</td>\n",
              "      <td>0.000000</td>\n",
              "      <td>0.0</td>\n",
              "      <td>0.0</td>\n",
              "      <td>0.0</td>\n",
              "      <td>0.0</td>\n",
              "      <td>0.0</td>\n",
              "      <td>0.000000</td>\n",
              "      <td>0.000000</td>\n",
              "      <td>0.0</td>\n",
              "      <td>0.0</td>\n",
              "      <td>0.0</td>\n",
              "      <td>0.0</td>\n",
              "      <td>0.0</td>\n",
              "      <td>0.0</td>\n",
              "      <td>0.0</td>\n",
              "      <td>0.0</td>\n",
              "      <td>0.0</td>\n",
              "      <td>0.0</td>\n",
              "      <td>0.0</td>\n",
              "      <td>0.0</td>\n",
              "      <td>0.0</td>\n",
              "      <td>0.000000</td>\n",
              "      <td>0.000000</td>\n",
              "      <td>0.0</td>\n",
              "      <td>0.000000</td>\n",
              "      <td>...</td>\n",
              "      <td>0.0</td>\n",
              "      <td>0.0</td>\n",
              "      <td>0.0</td>\n",
              "      <td>0.0</td>\n",
              "      <td>0.0</td>\n",
              "      <td>0.0</td>\n",
              "      <td>0.0</td>\n",
              "      <td>0.0</td>\n",
              "      <td>0.0</td>\n",
              "      <td>0.0</td>\n",
              "      <td>0.0</td>\n",
              "      <td>0.0</td>\n",
              "      <td>0.000000</td>\n",
              "      <td>0.0</td>\n",
              "      <td>0.0</td>\n",
              "      <td>0.0</td>\n",
              "      <td>0.0</td>\n",
              "      <td>0.000000</td>\n",
              "      <td>0.000000</td>\n",
              "      <td>0.0</td>\n",
              "      <td>0.000000</td>\n",
              "      <td>0.0</td>\n",
              "      <td>0.0</td>\n",
              "      <td>0.000000</td>\n",
              "      <td>0.000000</td>\n",
              "      <td>0.000000</td>\n",
              "      <td>0.000000</td>\n",
              "      <td>0.0</td>\n",
              "      <td>0.0</td>\n",
              "      <td>0.0</td>\n",
              "      <td>0.0</td>\n",
              "      <td>0.0</td>\n",
              "      <td>0.0</td>\n",
              "      <td>0.0</td>\n",
              "      <td>0.0</td>\n",
              "      <td>0.0</td>\n",
              "      <td>0.0</td>\n",
              "      <td>0.0</td>\n",
              "      <td>0.0</td>\n",
              "      <td>0.0</td>\n",
              "    </tr>\n",
              "    <tr>\n",
              "      <th>2</th>\n",
              "      <td>0.0</td>\n",
              "      <td>0.0</td>\n",
              "      <td>0.0</td>\n",
              "      <td>0.0</td>\n",
              "      <td>0.0</td>\n",
              "      <td>0.0</td>\n",
              "      <td>0.0</td>\n",
              "      <td>0.0</td>\n",
              "      <td>0.000000</td>\n",
              "      <td>0.007843</td>\n",
              "      <td>0.019608</td>\n",
              "      <td>0.000000</td>\n",
              "      <td>0.007843</td>\n",
              "      <td>0.000000</td>\n",
              "      <td>0.003922</td>\n",
              "      <td>0.000000</td>\n",
              "      <td>0.0</td>\n",
              "      <td>0.0</td>\n",
              "      <td>0.0</td>\n",
              "      <td>0.0</td>\n",
              "      <td>0.0</td>\n",
              "      <td>0.007843</td>\n",
              "      <td>0.003922</td>\n",
              "      <td>0.0</td>\n",
              "      <td>0.0</td>\n",
              "      <td>0.0</td>\n",
              "      <td>0.0</td>\n",
              "      <td>0.0</td>\n",
              "      <td>0.0</td>\n",
              "      <td>0.0</td>\n",
              "      <td>0.0</td>\n",
              "      <td>0.0</td>\n",
              "      <td>0.0</td>\n",
              "      <td>0.0</td>\n",
              "      <td>0.0</td>\n",
              "      <td>0.0</td>\n",
              "      <td>0.019608</td>\n",
              "      <td>0.000000</td>\n",
              "      <td>0.0</td>\n",
              "      <td>0.000000</td>\n",
              "      <td>...</td>\n",
              "      <td>0.0</td>\n",
              "      <td>0.0</td>\n",
              "      <td>0.0</td>\n",
              "      <td>0.0</td>\n",
              "      <td>0.0</td>\n",
              "      <td>0.0</td>\n",
              "      <td>0.0</td>\n",
              "      <td>0.0</td>\n",
              "      <td>0.0</td>\n",
              "      <td>0.0</td>\n",
              "      <td>0.0</td>\n",
              "      <td>0.0</td>\n",
              "      <td>0.000000</td>\n",
              "      <td>0.0</td>\n",
              "      <td>0.0</td>\n",
              "      <td>0.0</td>\n",
              "      <td>0.0</td>\n",
              "      <td>0.000000</td>\n",
              "      <td>0.000000</td>\n",
              "      <td>0.0</td>\n",
              "      <td>0.000000</td>\n",
              "      <td>0.0</td>\n",
              "      <td>0.0</td>\n",
              "      <td>0.000000</td>\n",
              "      <td>0.000000</td>\n",
              "      <td>0.000000</td>\n",
              "      <td>0.000000</td>\n",
              "      <td>0.0</td>\n",
              "      <td>0.0</td>\n",
              "      <td>0.0</td>\n",
              "      <td>0.0</td>\n",
              "      <td>0.0</td>\n",
              "      <td>0.0</td>\n",
              "      <td>0.0</td>\n",
              "      <td>0.0</td>\n",
              "      <td>0.0</td>\n",
              "      <td>0.0</td>\n",
              "      <td>0.0</td>\n",
              "      <td>0.0</td>\n",
              "      <td>0.0</td>\n",
              "    </tr>\n",
              "    <tr>\n",
              "      <th>3</th>\n",
              "      <td>0.0</td>\n",
              "      <td>0.0</td>\n",
              "      <td>0.0</td>\n",
              "      <td>0.0</td>\n",
              "      <td>0.0</td>\n",
              "      <td>0.0</td>\n",
              "      <td>0.0</td>\n",
              "      <td>0.0</td>\n",
              "      <td>0.000000</td>\n",
              "      <td>0.000000</td>\n",
              "      <td>0.000000</td>\n",
              "      <td>0.000000</td>\n",
              "      <td>0.000000</td>\n",
              "      <td>0.000000</td>\n",
              "      <td>0.000000</td>\n",
              "      <td>0.000000</td>\n",
              "      <td>0.0</td>\n",
              "      <td>0.0</td>\n",
              "      <td>0.0</td>\n",
              "      <td>0.0</td>\n",
              "      <td>0.0</td>\n",
              "      <td>0.000000</td>\n",
              "      <td>0.000000</td>\n",
              "      <td>0.0</td>\n",
              "      <td>0.0</td>\n",
              "      <td>0.0</td>\n",
              "      <td>0.0</td>\n",
              "      <td>0.0</td>\n",
              "      <td>0.0</td>\n",
              "      <td>0.0</td>\n",
              "      <td>0.0</td>\n",
              "      <td>0.0</td>\n",
              "      <td>0.0</td>\n",
              "      <td>0.0</td>\n",
              "      <td>0.0</td>\n",
              "      <td>0.0</td>\n",
              "      <td>0.000000</td>\n",
              "      <td>0.000000</td>\n",
              "      <td>0.0</td>\n",
              "      <td>0.000000</td>\n",
              "      <td>...</td>\n",
              "      <td>0.0</td>\n",
              "      <td>0.0</td>\n",
              "      <td>0.0</td>\n",
              "      <td>0.0</td>\n",
              "      <td>0.0</td>\n",
              "      <td>0.0</td>\n",
              "      <td>0.0</td>\n",
              "      <td>0.0</td>\n",
              "      <td>0.0</td>\n",
              "      <td>0.0</td>\n",
              "      <td>0.0</td>\n",
              "      <td>0.0</td>\n",
              "      <td>0.000000</td>\n",
              "      <td>0.0</td>\n",
              "      <td>0.0</td>\n",
              "      <td>0.0</td>\n",
              "      <td>0.0</td>\n",
              "      <td>0.000000</td>\n",
              "      <td>0.000000</td>\n",
              "      <td>0.0</td>\n",
              "      <td>0.000000</td>\n",
              "      <td>0.0</td>\n",
              "      <td>0.0</td>\n",
              "      <td>0.000000</td>\n",
              "      <td>0.000000</td>\n",
              "      <td>0.000000</td>\n",
              "      <td>0.000000</td>\n",
              "      <td>0.0</td>\n",
              "      <td>0.0</td>\n",
              "      <td>0.0</td>\n",
              "      <td>0.0</td>\n",
              "      <td>0.0</td>\n",
              "      <td>0.0</td>\n",
              "      <td>0.0</td>\n",
              "      <td>0.0</td>\n",
              "      <td>0.0</td>\n",
              "      <td>0.0</td>\n",
              "      <td>0.0</td>\n",
              "      <td>0.0</td>\n",
              "      <td>0.0</td>\n",
              "    </tr>\n",
              "    <tr>\n",
              "      <th>4</th>\n",
              "      <td>0.0</td>\n",
              "      <td>0.0</td>\n",
              "      <td>0.0</td>\n",
              "      <td>0.0</td>\n",
              "      <td>0.0</td>\n",
              "      <td>0.0</td>\n",
              "      <td>0.0</td>\n",
              "      <td>0.0</td>\n",
              "      <td>0.000000</td>\n",
              "      <td>0.000000</td>\n",
              "      <td>0.000000</td>\n",
              "      <td>0.000000</td>\n",
              "      <td>0.000000</td>\n",
              "      <td>0.000000</td>\n",
              "      <td>0.000000</td>\n",
              "      <td>0.000000</td>\n",
              "      <td>0.0</td>\n",
              "      <td>0.0</td>\n",
              "      <td>0.0</td>\n",
              "      <td>0.0</td>\n",
              "      <td>0.0</td>\n",
              "      <td>0.000000</td>\n",
              "      <td>0.000000</td>\n",
              "      <td>0.0</td>\n",
              "      <td>0.0</td>\n",
              "      <td>0.0</td>\n",
              "      <td>0.0</td>\n",
              "      <td>0.0</td>\n",
              "      <td>0.0</td>\n",
              "      <td>0.0</td>\n",
              "      <td>0.0</td>\n",
              "      <td>0.0</td>\n",
              "      <td>0.0</td>\n",
              "      <td>0.0</td>\n",
              "      <td>0.0</td>\n",
              "      <td>0.0</td>\n",
              "      <td>0.000000</td>\n",
              "      <td>0.000000</td>\n",
              "      <td>0.0</td>\n",
              "      <td>0.000000</td>\n",
              "      <td>...</td>\n",
              "      <td>0.0</td>\n",
              "      <td>0.0</td>\n",
              "      <td>0.0</td>\n",
              "      <td>0.0</td>\n",
              "      <td>0.0</td>\n",
              "      <td>0.0</td>\n",
              "      <td>0.0</td>\n",
              "      <td>0.0</td>\n",
              "      <td>0.0</td>\n",
              "      <td>0.0</td>\n",
              "      <td>0.0</td>\n",
              "      <td>0.0</td>\n",
              "      <td>0.000000</td>\n",
              "      <td>0.0</td>\n",
              "      <td>0.0</td>\n",
              "      <td>0.0</td>\n",
              "      <td>0.0</td>\n",
              "      <td>0.000000</td>\n",
              "      <td>0.000000</td>\n",
              "      <td>0.0</td>\n",
              "      <td>0.000000</td>\n",
              "      <td>0.0</td>\n",
              "      <td>0.0</td>\n",
              "      <td>0.000000</td>\n",
              "      <td>0.000000</td>\n",
              "      <td>0.000000</td>\n",
              "      <td>0.000000</td>\n",
              "      <td>0.0</td>\n",
              "      <td>0.0</td>\n",
              "      <td>0.0</td>\n",
              "      <td>0.0</td>\n",
              "      <td>0.0</td>\n",
              "      <td>0.0</td>\n",
              "      <td>0.0</td>\n",
              "      <td>0.0</td>\n",
              "      <td>0.0</td>\n",
              "      <td>0.0</td>\n",
              "      <td>0.0</td>\n",
              "      <td>0.0</td>\n",
              "      <td>0.0</td>\n",
              "    </tr>\n",
              "    <tr>\n",
              "      <th>5</th>\n",
              "      <td>0.0</td>\n",
              "      <td>0.0</td>\n",
              "      <td>0.0</td>\n",
              "      <td>0.0</td>\n",
              "      <td>0.0</td>\n",
              "      <td>0.0</td>\n",
              "      <td>0.0</td>\n",
              "      <td>0.0</td>\n",
              "      <td>0.000000</td>\n",
              "      <td>0.000000</td>\n",
              "      <td>0.007843</td>\n",
              "      <td>0.003922</td>\n",
              "      <td>0.000000</td>\n",
              "      <td>0.007843</td>\n",
              "      <td>0.000000</td>\n",
              "      <td>0.003922</td>\n",
              "      <td>0.0</td>\n",
              "      <td>0.0</td>\n",
              "      <td>0.0</td>\n",
              "      <td>0.0</td>\n",
              "      <td>0.0</td>\n",
              "      <td>0.000000</td>\n",
              "      <td>0.000000</td>\n",
              "      <td>0.0</td>\n",
              "      <td>0.0</td>\n",
              "      <td>0.0</td>\n",
              "      <td>0.0</td>\n",
              "      <td>0.0</td>\n",
              "      <td>0.0</td>\n",
              "      <td>0.0</td>\n",
              "      <td>0.0</td>\n",
              "      <td>0.0</td>\n",
              "      <td>0.0</td>\n",
              "      <td>0.0</td>\n",
              "      <td>0.0</td>\n",
              "      <td>0.0</td>\n",
              "      <td>0.011765</td>\n",
              "      <td>0.000000</td>\n",
              "      <td>0.0</td>\n",
              "      <td>0.000000</td>\n",
              "      <td>...</td>\n",
              "      <td>0.0</td>\n",
              "      <td>0.0</td>\n",
              "      <td>0.0</td>\n",
              "      <td>0.0</td>\n",
              "      <td>0.0</td>\n",
              "      <td>0.0</td>\n",
              "      <td>0.0</td>\n",
              "      <td>0.0</td>\n",
              "      <td>0.0</td>\n",
              "      <td>0.0</td>\n",
              "      <td>0.0</td>\n",
              "      <td>0.0</td>\n",
              "      <td>0.000000</td>\n",
              "      <td>0.0</td>\n",
              "      <td>0.0</td>\n",
              "      <td>0.0</td>\n",
              "      <td>0.0</td>\n",
              "      <td>0.000000</td>\n",
              "      <td>0.000000</td>\n",
              "      <td>0.0</td>\n",
              "      <td>0.000000</td>\n",
              "      <td>0.0</td>\n",
              "      <td>0.0</td>\n",
              "      <td>0.000000</td>\n",
              "      <td>0.000000</td>\n",
              "      <td>0.000000</td>\n",
              "      <td>0.000000</td>\n",
              "      <td>0.0</td>\n",
              "      <td>0.0</td>\n",
              "      <td>0.0</td>\n",
              "      <td>0.0</td>\n",
              "      <td>0.0</td>\n",
              "      <td>0.0</td>\n",
              "      <td>0.0</td>\n",
              "      <td>0.0</td>\n",
              "      <td>0.0</td>\n",
              "      <td>0.0</td>\n",
              "      <td>0.0</td>\n",
              "      <td>0.0</td>\n",
              "      <td>0.0</td>\n",
              "    </tr>\n",
              "    <tr>\n",
              "      <th>6</th>\n",
              "      <td>0.0</td>\n",
              "      <td>0.0</td>\n",
              "      <td>0.0</td>\n",
              "      <td>0.0</td>\n",
              "      <td>0.0</td>\n",
              "      <td>0.0</td>\n",
              "      <td>0.0</td>\n",
              "      <td>0.0</td>\n",
              "      <td>0.000000</td>\n",
              "      <td>0.000000</td>\n",
              "      <td>0.000000</td>\n",
              "      <td>0.000000</td>\n",
              "      <td>0.000000</td>\n",
              "      <td>0.000000</td>\n",
              "      <td>0.000000</td>\n",
              "      <td>0.000000</td>\n",
              "      <td>0.0</td>\n",
              "      <td>0.0</td>\n",
              "      <td>0.0</td>\n",
              "      <td>0.0</td>\n",
              "      <td>0.0</td>\n",
              "      <td>0.000000</td>\n",
              "      <td>0.000000</td>\n",
              "      <td>0.0</td>\n",
              "      <td>0.0</td>\n",
              "      <td>0.0</td>\n",
              "      <td>0.0</td>\n",
              "      <td>0.0</td>\n",
              "      <td>0.0</td>\n",
              "      <td>0.0</td>\n",
              "      <td>0.0</td>\n",
              "      <td>0.0</td>\n",
              "      <td>0.0</td>\n",
              "      <td>0.0</td>\n",
              "      <td>0.0</td>\n",
              "      <td>0.0</td>\n",
              "      <td>0.000000</td>\n",
              "      <td>0.000000</td>\n",
              "      <td>0.0</td>\n",
              "      <td>0.000000</td>\n",
              "      <td>...</td>\n",
              "      <td>0.0</td>\n",
              "      <td>0.0</td>\n",
              "      <td>0.0</td>\n",
              "      <td>0.0</td>\n",
              "      <td>0.0</td>\n",
              "      <td>0.0</td>\n",
              "      <td>0.0</td>\n",
              "      <td>0.0</td>\n",
              "      <td>0.0</td>\n",
              "      <td>0.0</td>\n",
              "      <td>0.0</td>\n",
              "      <td>0.0</td>\n",
              "      <td>0.000000</td>\n",
              "      <td>0.0</td>\n",
              "      <td>0.0</td>\n",
              "      <td>0.0</td>\n",
              "      <td>0.0</td>\n",
              "      <td>0.000000</td>\n",
              "      <td>0.000000</td>\n",
              "      <td>0.0</td>\n",
              "      <td>0.000000</td>\n",
              "      <td>0.0</td>\n",
              "      <td>0.0</td>\n",
              "      <td>0.000000</td>\n",
              "      <td>0.000000</td>\n",
              "      <td>0.000000</td>\n",
              "      <td>0.000000</td>\n",
              "      <td>0.0</td>\n",
              "      <td>0.0</td>\n",
              "      <td>0.0</td>\n",
              "      <td>0.0</td>\n",
              "      <td>0.0</td>\n",
              "      <td>0.0</td>\n",
              "      <td>0.0</td>\n",
              "      <td>0.0</td>\n",
              "      <td>0.0</td>\n",
              "      <td>0.0</td>\n",
              "      <td>0.0</td>\n",
              "      <td>0.0</td>\n",
              "      <td>0.0</td>\n",
              "    </tr>\n",
              "    <tr>\n",
              "      <th>7</th>\n",
              "      <td>0.0</td>\n",
              "      <td>0.0</td>\n",
              "      <td>0.0</td>\n",
              "      <td>0.0</td>\n",
              "      <td>0.0</td>\n",
              "      <td>0.0</td>\n",
              "      <td>0.0</td>\n",
              "      <td>0.0</td>\n",
              "      <td>0.000000</td>\n",
              "      <td>0.000000</td>\n",
              "      <td>0.019608</td>\n",
              "      <td>0.000000</td>\n",
              "      <td>0.000000</td>\n",
              "      <td>0.007843</td>\n",
              "      <td>0.000000</td>\n",
              "      <td>0.003922</td>\n",
              "      <td>0.0</td>\n",
              "      <td>0.0</td>\n",
              "      <td>0.0</td>\n",
              "      <td>0.0</td>\n",
              "      <td>0.0</td>\n",
              "      <td>0.000000</td>\n",
              "      <td>0.000000</td>\n",
              "      <td>0.0</td>\n",
              "      <td>0.0</td>\n",
              "      <td>0.0</td>\n",
              "      <td>0.0</td>\n",
              "      <td>0.0</td>\n",
              "      <td>0.0</td>\n",
              "      <td>0.0</td>\n",
              "      <td>0.0</td>\n",
              "      <td>0.0</td>\n",
              "      <td>0.0</td>\n",
              "      <td>0.0</td>\n",
              "      <td>0.0</td>\n",
              "      <td>0.0</td>\n",
              "      <td>0.007843</td>\n",
              "      <td>0.003922</td>\n",
              "      <td>0.0</td>\n",
              "      <td>0.031373</td>\n",
              "      <td>...</td>\n",
              "      <td>0.0</td>\n",
              "      <td>0.0</td>\n",
              "      <td>0.0</td>\n",
              "      <td>0.0</td>\n",
              "      <td>0.0</td>\n",
              "      <td>0.0</td>\n",
              "      <td>0.0</td>\n",
              "      <td>0.0</td>\n",
              "      <td>0.0</td>\n",
              "      <td>0.0</td>\n",
              "      <td>0.0</td>\n",
              "      <td>0.0</td>\n",
              "      <td>0.003922</td>\n",
              "      <td>0.0</td>\n",
              "      <td>0.0</td>\n",
              "      <td>0.0</td>\n",
              "      <td>0.0</td>\n",
              "      <td>0.003922</td>\n",
              "      <td>0.003922</td>\n",
              "      <td>0.0</td>\n",
              "      <td>0.015686</td>\n",
              "      <td>0.0</td>\n",
              "      <td>0.0</td>\n",
              "      <td>0.003922</td>\n",
              "      <td>0.003922</td>\n",
              "      <td>0.003922</td>\n",
              "      <td>0.003922</td>\n",
              "      <td>0.0</td>\n",
              "      <td>0.0</td>\n",
              "      <td>0.0</td>\n",
              "      <td>0.0</td>\n",
              "      <td>0.0</td>\n",
              "      <td>0.0</td>\n",
              "      <td>0.0</td>\n",
              "      <td>0.0</td>\n",
              "      <td>0.0</td>\n",
              "      <td>0.0</td>\n",
              "      <td>0.0</td>\n",
              "      <td>0.0</td>\n",
              "      <td>0.0</td>\n",
              "    </tr>\n",
              "    <tr>\n",
              "      <th>8</th>\n",
              "      <td>0.0</td>\n",
              "      <td>0.0</td>\n",
              "      <td>0.0</td>\n",
              "      <td>0.0</td>\n",
              "      <td>0.0</td>\n",
              "      <td>0.0</td>\n",
              "      <td>0.0</td>\n",
              "      <td>0.0</td>\n",
              "      <td>0.000000</td>\n",
              "      <td>0.000000</td>\n",
              "      <td>0.000000</td>\n",
              "      <td>0.000000</td>\n",
              "      <td>0.000000</td>\n",
              "      <td>0.000000</td>\n",
              "      <td>0.000000</td>\n",
              "      <td>0.000000</td>\n",
              "      <td>0.0</td>\n",
              "      <td>0.0</td>\n",
              "      <td>0.0</td>\n",
              "      <td>0.0</td>\n",
              "      <td>0.0</td>\n",
              "      <td>0.000000</td>\n",
              "      <td>0.000000</td>\n",
              "      <td>0.0</td>\n",
              "      <td>0.0</td>\n",
              "      <td>0.0</td>\n",
              "      <td>0.0</td>\n",
              "      <td>0.0</td>\n",
              "      <td>0.0</td>\n",
              "      <td>0.0</td>\n",
              "      <td>0.0</td>\n",
              "      <td>0.0</td>\n",
              "      <td>0.0</td>\n",
              "      <td>0.0</td>\n",
              "      <td>0.0</td>\n",
              "      <td>0.0</td>\n",
              "      <td>0.000000</td>\n",
              "      <td>0.000000</td>\n",
              "      <td>0.0</td>\n",
              "      <td>0.000000</td>\n",
              "      <td>...</td>\n",
              "      <td>0.0</td>\n",
              "      <td>0.0</td>\n",
              "      <td>0.0</td>\n",
              "      <td>0.0</td>\n",
              "      <td>0.0</td>\n",
              "      <td>0.0</td>\n",
              "      <td>0.0</td>\n",
              "      <td>0.0</td>\n",
              "      <td>0.0</td>\n",
              "      <td>0.0</td>\n",
              "      <td>0.0</td>\n",
              "      <td>0.0</td>\n",
              "      <td>0.000000</td>\n",
              "      <td>0.0</td>\n",
              "      <td>0.0</td>\n",
              "      <td>0.0</td>\n",
              "      <td>0.0</td>\n",
              "      <td>0.000000</td>\n",
              "      <td>0.000000</td>\n",
              "      <td>0.0</td>\n",
              "      <td>0.000000</td>\n",
              "      <td>0.0</td>\n",
              "      <td>0.0</td>\n",
              "      <td>0.000000</td>\n",
              "      <td>0.000000</td>\n",
              "      <td>0.000000</td>\n",
              "      <td>0.000000</td>\n",
              "      <td>0.0</td>\n",
              "      <td>0.0</td>\n",
              "      <td>0.0</td>\n",
              "      <td>0.0</td>\n",
              "      <td>0.0</td>\n",
              "      <td>0.0</td>\n",
              "      <td>0.0</td>\n",
              "      <td>0.0</td>\n",
              "      <td>0.0</td>\n",
              "      <td>0.0</td>\n",
              "      <td>0.0</td>\n",
              "      <td>0.0</td>\n",
              "      <td>0.0</td>\n",
              "    </tr>\n",
              "    <tr>\n",
              "      <th>9</th>\n",
              "      <td>0.0</td>\n",
              "      <td>0.0</td>\n",
              "      <td>0.0</td>\n",
              "      <td>0.0</td>\n",
              "      <td>0.0</td>\n",
              "      <td>0.0</td>\n",
              "      <td>0.0</td>\n",
              "      <td>0.0</td>\n",
              "      <td>0.015686</td>\n",
              "      <td>0.000000</td>\n",
              "      <td>0.003922</td>\n",
              "      <td>0.000000</td>\n",
              "      <td>0.000000</td>\n",
              "      <td>0.000000</td>\n",
              "      <td>0.019608</td>\n",
              "      <td>0.000000</td>\n",
              "      <td>0.0</td>\n",
              "      <td>0.0</td>\n",
              "      <td>0.0</td>\n",
              "      <td>0.0</td>\n",
              "      <td>0.0</td>\n",
              "      <td>0.000000</td>\n",
              "      <td>0.000000</td>\n",
              "      <td>0.0</td>\n",
              "      <td>0.0</td>\n",
              "      <td>0.0</td>\n",
              "      <td>0.0</td>\n",
              "      <td>0.0</td>\n",
              "      <td>0.0</td>\n",
              "      <td>0.0</td>\n",
              "      <td>0.0</td>\n",
              "      <td>0.0</td>\n",
              "      <td>0.0</td>\n",
              "      <td>0.0</td>\n",
              "      <td>0.0</td>\n",
              "      <td>0.0</td>\n",
              "      <td>0.000000</td>\n",
              "      <td>0.011765</td>\n",
              "      <td>0.0</td>\n",
              "      <td>0.007843</td>\n",
              "      <td>...</td>\n",
              "      <td>0.0</td>\n",
              "      <td>0.0</td>\n",
              "      <td>0.0</td>\n",
              "      <td>0.0</td>\n",
              "      <td>0.0</td>\n",
              "      <td>0.0</td>\n",
              "      <td>0.0</td>\n",
              "      <td>0.0</td>\n",
              "      <td>0.0</td>\n",
              "      <td>0.0</td>\n",
              "      <td>0.0</td>\n",
              "      <td>0.0</td>\n",
              "      <td>0.000000</td>\n",
              "      <td>0.0</td>\n",
              "      <td>0.0</td>\n",
              "      <td>0.0</td>\n",
              "      <td>0.0</td>\n",
              "      <td>0.000000</td>\n",
              "      <td>0.000000</td>\n",
              "      <td>0.0</td>\n",
              "      <td>0.000000</td>\n",
              "      <td>0.0</td>\n",
              "      <td>0.0</td>\n",
              "      <td>0.000000</td>\n",
              "      <td>0.000000</td>\n",
              "      <td>0.000000</td>\n",
              "      <td>0.000000</td>\n",
              "      <td>0.0</td>\n",
              "      <td>0.0</td>\n",
              "      <td>0.0</td>\n",
              "      <td>0.0</td>\n",
              "      <td>0.0</td>\n",
              "      <td>0.0</td>\n",
              "      <td>0.0</td>\n",
              "      <td>0.0</td>\n",
              "      <td>0.0</td>\n",
              "      <td>0.0</td>\n",
              "      <td>0.0</td>\n",
              "      <td>0.0</td>\n",
              "      <td>0.0</td>\n",
              "    </tr>\n",
              "  </tbody>\n",
              "</table>\n",
              "<p>10 rows × 784 columns</p>\n",
              "</div>"
            ],
            "text/plain": [
              "     0    1    2    3    4    5    6  ...  777  778  779  780  781  782  783\n",
              "0  0.0  0.0  0.0  0.0  0.0  0.0  0.0  ...  0.0  0.0  0.0  0.0  0.0  0.0  0.0\n",
              "1  0.0  0.0  0.0  0.0  0.0  0.0  0.0  ...  0.0  0.0  0.0  0.0  0.0  0.0  0.0\n",
              "2  0.0  0.0  0.0  0.0  0.0  0.0  0.0  ...  0.0  0.0  0.0  0.0  0.0  0.0  0.0\n",
              "3  0.0  0.0  0.0  0.0  0.0  0.0  0.0  ...  0.0  0.0  0.0  0.0  0.0  0.0  0.0\n",
              "4  0.0  0.0  0.0  0.0  0.0  0.0  0.0  ...  0.0  0.0  0.0  0.0  0.0  0.0  0.0\n",
              "5  0.0  0.0  0.0  0.0  0.0  0.0  0.0  ...  0.0  0.0  0.0  0.0  0.0  0.0  0.0\n",
              "6  0.0  0.0  0.0  0.0  0.0  0.0  0.0  ...  0.0  0.0  0.0  0.0  0.0  0.0  0.0\n",
              "7  0.0  0.0  0.0  0.0  0.0  0.0  0.0  ...  0.0  0.0  0.0  0.0  0.0  0.0  0.0\n",
              "8  0.0  0.0  0.0  0.0  0.0  0.0  0.0  ...  0.0  0.0  0.0  0.0  0.0  0.0  0.0\n",
              "9  0.0  0.0  0.0  0.0  0.0  0.0  0.0  ...  0.0  0.0  0.0  0.0  0.0  0.0  0.0\n",
              "\n",
              "[10 rows x 784 columns]"
            ]
          },
          "metadata": {
            "tags": []
          },
          "execution_count": 7
        }
      ]
    },
    {
      "cell_type": "markdown",
      "metadata": {
        "id": "_JPL2x9b1Vkh"
      },
      "source": [
        "**Checking for Null values**"
      ]
    },
    {
      "cell_type": "code",
      "metadata": {
        "colab": {
          "base_uri": "https://localhost:8080/"
        },
        "id": "ZJPZEFyg8YxQ",
        "outputId": "990946e1-1a06-43fa-f46a-87a17db03d7b"
      },
      "source": [
        "train.isnull().sum().sum() #Checking for null values in the whole data set"
      ],
      "execution_count": 8,
      "outputs": [
        {
          "output_type": "execute_result",
          "data": {
            "text/plain": [
              "0"
            ]
          },
          "metadata": {
            "tags": []
          },
          "execution_count": 8
        }
      ]
    },
    {
      "cell_type": "markdown",
      "metadata": {
        "id": "_D7Ua3j72g-U"
      },
      "source": [
        "**Seperating Pixels and Their Respective Labels**"
      ]
    },
    {
      "cell_type": "code",
      "metadata": {
        "id": "qFm6GibP7pdW"
      },
      "source": [
        "train_labels = np.array(train.loc[:,'label'])\n",
        "train_data = np.array(train.loc[:,train.columns!='label'])"
      ],
      "execution_count": 9,
      "outputs": []
    },
    {
      "cell_type": "code",
      "metadata": {
        "id": "HWcTnCavrAIn",
        "colab": {
          "base_uri": "https://localhost:8080/"
        },
        "outputId": "2d92eaaf-ccc2-4e11-fa32-1848770e9649"
      },
      "source": [
        "train_labels=train_labels[0:5000]\n",
        "train_labels.reshape(-1,1)"
      ],
      "execution_count": 10,
      "outputs": [
        {
          "output_type": "execute_result",
          "data": {
            "text/plain": [
              "array([[1],\n",
              "       [0],\n",
              "       [1],\n",
              "       ...,\n",
              "       [8],\n",
              "       [7],\n",
              "       [9]])"
            ]
          },
          "metadata": {
            "tags": []
          },
          "execution_count": 10
        }
      ]
    },
    {
      "cell_type": "code",
      "metadata": {
        "id": "ceMG_idArB1y",
        "colab": {
          "base_uri": "https://localhost:8080/"
        },
        "outputId": "49be9b13-005e-4a38-f959-8574d27bbd4b"
      },
      "source": [
        "train_data=train_data[0:5000,:]\n",
        "train_data.shape"
      ],
      "execution_count": 11,
      "outputs": [
        {
          "output_type": "execute_result",
          "data": {
            "text/plain": [
              "(5000, 784)"
            ]
          },
          "metadata": {
            "tags": []
          },
          "execution_count": 11
        }
      ]
    },
    {
      "cell_type": "markdown",
      "metadata": {
        "id": "3EC46yzu2q4t"
      },
      "source": [
        "**Size of Labels vector**"
      ]
    },
    {
      "cell_type": "code",
      "metadata": {
        "colab": {
          "base_uri": "https://localhost:8080/"
        },
        "id": "fNt8LgDz8nfp",
        "outputId": "b6b135d4-c0f4-474c-f99f-5e28e5acc550"
      },
      "source": [
        "train_labels.reshape(-1,1)"
      ],
      "execution_count": 12,
      "outputs": [
        {
          "output_type": "execute_result",
          "data": {
            "text/plain": [
              "array([[1],\n",
              "       [0],\n",
              "       [1],\n",
              "       ...,\n",
              "       [8],\n",
              "       [7],\n",
              "       [9]])"
            ]
          },
          "metadata": {
            "tags": []
          },
          "execution_count": 12
        }
      ]
    },
    {
      "cell_type": "markdown",
      "metadata": {
        "id": "L7Qy-IMn3EAH"
      },
      "source": [
        "**Size of Matrix of pixels**"
      ]
    },
    {
      "cell_type": "code",
      "metadata": {
        "colab": {
          "base_uri": "https://localhost:8080/"
        },
        "id": "gephVR0-8ncv",
        "outputId": "4158d908-f350-4a95-dcf5-310b6fe242d8"
      },
      "source": [
        "train_data.shape"
      ],
      "execution_count": 13,
      "outputs": [
        {
          "output_type": "execute_result",
          "data": {
            "text/plain": [
              "(5000, 784)"
            ]
          },
          "metadata": {
            "tags": []
          },
          "execution_count": 13
        }
      ]
    },
    {
      "cell_type": "markdown",
      "metadata": {
        "id": "rCLEAcDm3P2B"
      },
      "source": [
        "### **Visualizing Data**"
      ]
    },
    {
      "cell_type": "code",
      "metadata": {
        "colab": {
          "base_uri": "https://localhost:8080/",
          "height": 298
        },
        "id": "5TXauZHp7aVF",
        "outputId": "f723417c-ce75-4662-85fa-1b277ea3e4d4"
      },
      "source": [
        "index = 175;\n",
        "plt.title((train_labels[index]))\n",
        "plt.imshow(train_data[index].reshape(28,28), cmap = cm.binary)"
      ],
      "execution_count": 14,
      "outputs": [
        {
          "output_type": "execute_result",
          "data": {
            "text/plain": [
              "<matplotlib.image.AxesImage at 0x7f254d7f4350>"
            ]
          },
          "metadata": {
            "tags": []
          },
          "execution_count": 14
        },
        {
          "output_type": "display_data",
          "data": {
            "image/png": "[encoded data removed]",
            "text/plain": [
              "<Figure size 432x288 with 1 Axes>"
            ]
          },
          "metadata": {
            "tags": [],
            "needs_background": "light"
          }
        }
      ]
    },
    {
      "cell_type": "code",
      "metadata": {
        "colab": {
          "base_uri": "https://localhost:8080/"
        },
        "id": "fFnqCKGk7roy",
        "outputId": "abca8412-6f9e-431b-c0a6-e2263cd1bdf5"
      },
      "source": [
        "print(train_labels[index])"
      ],
      "execution_count": 15,
      "outputs": [
        {
          "output_type": "stream",
          "text": [
            "8\n"
          ],
          "name": "stdout"
        }
      ]
    },
    {
      "cell_type": "code",
      "metadata": {
        "colab": {
          "base_uri": "https://localhost:8080/",
          "height": 265
        },
        "id": "vq6ac7RbomJ3",
        "outputId": "3386427c-fcc9-4d78-c6c3-43056a8671df"
      },
      "source": [
        "for image in glob.glob('Own_digits/*.png'):\n",
        "    img = Image.open(image)\n",
        "    img=ImageOps.grayscale(img)\n",
        "    plt.imshow(img)\n",
        "plt.show()"
      ],
      "execution_count": 16,
      "outputs": [
        {
          "output_type": "display_data",
          "data": {
            "image/png": "[encoded data removed]",
            "text/plain": [
              "<Figure size 432x288 with 1 Axes>"
            ]
          },
          "metadata": {
            "tags": [],
            "needs_background": "light"
          }
        }
      ]
    },
    {
      "cell_type": "markdown",
      "metadata": {
        "id": "m8dKn7tW31xG"
      },
      "source": [
        "**Count of Occurence of each label**"
      ]
    },
    {
      "cell_type": "code",
      "metadata": {
        "colab": {
          "base_uri": "https://localhost:8080/"
        },
        "id": "9iAeD32O9dTG",
        "outputId": "76ef76d2-3ceb-4078-ac5d-8d08167e136f"
      },
      "source": [
        "print('Occurrence of each digit in training data')\n",
        "y_digits = np.zeros((1,10))\n",
        "\n",
        "for i in range (10):\n",
        "    print('Digit ', i, ':', np.count_nonzero(train_labels == i))\n",
        "    y_digits[0, i-1] = np.count_nonzero(train_labels == i)"
      ],
      "execution_count": 17,
      "outputs": [
        {
          "output_type": "stream",
          "text": [
            "Occurrence of each digit in training data\n",
            "Digit  0 : 494\n",
            "Digit  1 : 558\n",
            "Digit  2 : 545\n",
            "Digit  3 : 480\n",
            "Digit  4 : 477\n",
            "Digit  5 : 469\n",
            "Digit  6 : 516\n",
            "Digit  7 : 506\n",
            "Digit  8 : 477\n",
            "Digit  9 : 478\n"
          ],
          "name": "stdout"
        }
      ]
    },
    {
      "cell_type": "markdown",
      "metadata": {
        "id": "UxLRAW-L4SVg"
      },
      "source": [
        "**Count Plot**"
      ]
    },
    {
      "cell_type": "code",
      "metadata": {
        "colab": {
          "base_uri": "https://localhost:8080/",
          "height": 297
        },
        "id": "2MIqdZOsAmST",
        "outputId": "7c0e9901-faad-4151-f1c6-7d47f881c989"
      },
      "source": [
        "y_digits = y_digits.ravel()\n",
        "x_value = [0,1,2,3,4,5,6,7,8,9]\n",
        "plt.xlabel('label')\n",
        "plt.ylabel('count')\n",
        "plt.bar(x_value, y_digits, 0.7, color = 'y')"
      ],
      "execution_count": 18,
      "outputs": [
        {
          "output_type": "execute_result",
          "data": {
            "text/plain": [
              "<BarContainer object of 10 artists>"
            ]
          },
          "metadata": {
            "tags": []
          },
          "execution_count": 18
        },
        {
          "output_type": "display_data",
          "data": {
            "image/png": "[encoded data removed]",
            "text/plain": [
              "<Figure size 432x288 with 1 Axes>"
            ]
          },
          "metadata": {
            "tags": [],
            "needs_background": "light"
          }
        }
      ]
    },
    {
      "cell_type": "markdown",
      "metadata": {
        "id": "fFZfxz14CCeS"
      },
      "source": [
        "**One hot encoding for training labels**"
      ]
    },
    {
      "cell_type": "code",
      "metadata": {
        "colab": {
          "base_uri": "https://localhost:8080/"
        },
        "id": "xXF4YjjSBJNz",
        "outputId": "f4436446-bfa8-42bd-c7a7-7d06f3c172ff"
      },
      "source": [
        "train_data=np.reshape(train_data,[784,5000])\n",
        "train_label=np.zeros((10,5000))\n",
        "for col in range (5000):\n",
        "    val=train_labels[col]\n",
        "    for row in range (10):\n",
        "        if (val==row):\n",
        "            train_label[val,col]=1\n",
        "print(\"train_data shape=\"+str(np.shape(train_data)))\n",
        "print(\"train_label shape=\"+str(np.shape(train_label)))"
      ],
      "execution_count": 19,
      "outputs": [
        {
          "output_type": "stream",
          "text": [
            "train_data shape=(784, 5000)\n",
            "train_label shape=(10, 5000)\n"
          ],
          "name": "stdout"
        }
      ]
    },
    {
      "cell_type": "markdown",
      "metadata": {
        "id": "4B7fS77-4hmA"
      },
      "source": [
        "## **Declaring Helper Functions**"
      ]
    },
    {
      "cell_type": "code",
      "metadata": {
        "id": "Ws2A5TF8FMy1"
      },
      "source": [
        "# Helper function to plot graph of cost vs iterations\n",
        "def plot_graph(cost_plot):\n",
        "       \n",
        "    x_value=list(range(1,len(cost_plot)+1))\n",
        "    #print(cost_plot)\n",
        "    plt.xlabel('iteration')\n",
        "    plt.ylabel('cost')\n",
        "    plt.plot(x_value,cost_plot,0.,color='g')"
      ],
      "execution_count": 20,
      "outputs": []
    },
    {
      "cell_type": "markdown",
      "metadata": {
        "id": "1rH1tqy1DWTJ"
      },
      "source": [
        "**Defining activation functions**"
      ]
    },
    {
      "cell_type": "markdown",
      "metadata": {
        "id": "vFj3aynJ8JQg"
      },
      "source": [
        "![image.png](data:image/png;base64,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)"
      ]
    },
    {
      "cell_type": "markdown",
      "metadata": {
        "id": "IFUPDBH08QCO"
      },
      "source": [
        "![image.png](data:image/png;base64,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)"
      ]
    },
    {
      "cell_type": "markdown",
      "metadata": {
        "id": "IHoqo4si9CrY"
      },
      "source": [
        "**Softmax**\n",
        "\n",
        "\n",
        "---\n",
        "\n",
        "\n",
        "![image.png](data:image/png;base64,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)"
      ]
    },
    {
      "cell_type": "code",
      "metadata": {
        "id": "BuFqMT7rCH_u"
      },
      "source": [
        "#activation functions sigmoid relu and softmax\n",
        "def sigmoid(Z):\n",
        "    A = 1/(1+np.exp(-Z))\n",
        "    cache = Z\n",
        "    return A, cache\n",
        "\n",
        "def relu(Z):\n",
        "    A = np.maximum(0,Z)    \n",
        "    cache = Z \n",
        "    return A, cache\n",
        "\n",
        "def softmax(Z):\n",
        "    e_x = np.exp(Z)\n",
        "    A= e_x / np.sum(np.exp(Z))  \n",
        "    cache=Z\n",
        "    return A,cache"
      ],
      "execution_count": 21,
      "outputs": []
    },
    {
      "cell_type": "markdown",
      "metadata": {
        "id": "6Wzgh6RMDmKK"
      },
      "source": [
        "**Derivatives of activation functions**"
      ]
    },
    {
      "cell_type": "markdown",
      "metadata": {
        "id": "fdh8OwEb-X0e"
      },
      "source": [
        "![image.png](data:image/png;base64,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)"
      ]
    },
    {
      "cell_type": "markdown",
      "metadata": {
        "id": "_zJ-GVq4-ggX"
      },
      "source": [
        "![image.png](data:image/png;base64,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)"
      ]
    },
    {
      "cell_type": "code",
      "metadata": {
        "id": "m_hzcWZkDViL"
      },
      "source": [
        "   #derivative of activation function\n",
        "def relu_backward(dA, cache):\n",
        "    Z = cache\n",
        "    dZ = np.array(dA, copy=True)\n",
        "    dZ[Z <= 0] = 0\n",
        "    assert (dZ.shape == Z.shape)\n",
        "    return dZ\n",
        "\n",
        "def sigmoid_backward(dA, cache):    \n",
        "    Z = cache\n",
        "    s = 1/(1+np.exp(-Z))\n",
        "    dZ = dA * s * (1-s)\n",
        "    assert (dZ.shape == Z.shape)\n",
        "    return dZ\n",
        "\n",
        "def softmax_backward(Z,cache):\n",
        "    Z=cache\n",
        "    length=10  \n",
        "    dZ=np.zeros((5000,10))\n",
        "    Z=np.transpose(Z)\n",
        "    for row in range (0,5000):\n",
        "            den=(np.sum(np.exp(Z[row,:])))*(np.sum(np.exp(Z[row,:])))\n",
        "            for col in range (0,10):\n",
        "                sums=0\n",
        "                for j in range (0,10):\n",
        "                    if (j!=col):\n",
        "                        sums=sums+(math.exp(Z[row,j]))\n",
        "                \n",
        "                dZ[row,col]=(math.exp(Z[row,col])*sums)/den           \n",
        "    dZ=np.transpose(dZ)\n",
        "    Z=np.transpose(Z)\n",
        "\n",
        "    assert (dZ.shape == Z.shape)\n",
        "    return dZ"
      ],
      "execution_count": 22,
      "outputs": []
    },
    {
      "cell_type": "markdown",
      "metadata": {
        "id": "FEl0kwVAD8cK"
      },
      "source": [
        "\n",
        "**Initialising weights and biases**\n"
      ]
    },
    {
      "cell_type": "code",
      "metadata": {
        "id": "aSNEeylN4hm0"
      },
      "source": [
        "\n",
        "def initialize_parameters(inputL,hiddenL,outputL):\n",
        "    \"\"\"\n",
        "    Input Parameters\n",
        "    inputL  ==>  size of the input layer\n",
        "    hiddenL ==>  size of the hidden layer\n",
        "    outputL ==>  size of the output layer\n",
        "    \n",
        "    Output Parameter\n",
        "    parameters ==>  dictionary containing parameters:\n",
        "                    W1 ==> weight matrix of shape (hiddenL, inputL)\n",
        "                    b1 ==> bias vector of shape (hiddenL, 1)\n",
        "                    W2 ==> weight matrix of shape (outputL, hiddenL)\n",
        "                    b2 ==> bias vector of shape (outputL, 1)\n",
        "    \"\"\"\n",
        "\n",
        "    W1 = np.random.randn(hiddenL, inputL)*0.01\n",
        "    b1 = np.zeros((hiddenL,1))\n",
        "    W2 = np.random.randn(outputL, hiddenL)*0.01\n",
        "    b2 = np.zeros((outputL,1))\n",
        "\n",
        "    \n",
        "    assert(W1.shape == (hiddenL, inputL))\n",
        "    assert(b1.shape == (hiddenL, 1))\n",
        "    assert(W2.shape == (outputL, hiddenL))\n",
        "    assert(b2.shape == (outputL, 1))\n",
        "    \n",
        "    parameters = {\"W1\": W1,\n",
        "                  \"b1\": b1,\n",
        "                  \"W2\": W2,\n",
        "                  \"b2\": b2}\n",
        "    \n",
        "    return parameters   "
      ],
      "execution_count": 23,
      "outputs": []
    },
    {
      "cell_type": "code",
      "metadata": {
        "id": "JeZOe5wpqv8h"
      },
      "source": [
        "def initialize_parameters_deep(layer_dims):\n",
        "    \n",
        "    np.random.seed(3)\n",
        "    parameters = {}\n",
        "    L = len(layer_dims)            # number of layers in the network\n",
        "\n",
        "    for l in range(1, L):\n",
        "        \n",
        "        parameters['W' + str(l)] = np.random.randn(layer_dims[l], layer_dims[l-1]) * 0.01\n",
        "        parameters['b' + str(l)] =  np.zeros((layer_dims[l], 1))\n",
        "       \n",
        "        \n",
        "        assert(parameters['W' + str(l)].shape == (layer_dims[l], layer_dims[l-1]))\n",
        "        assert(parameters['b' + str(l)].shape == (layer_dims[l], 1))\n",
        "\n",
        "        \n",
        "    return parameters"
      ],
      "execution_count": 24,
      "outputs": []
    },
    {
      "cell_type": "markdown",
      "metadata": {
        "id": "xJMJBNLHEZv9"
      },
      "source": [
        "## **Forward propagation**"
      ]
    },
    {
      "cell_type": "markdown",
      "metadata": {
        "id": "GvB0wshIA9gE"
      },
      "source": [
        "### **Linear forward function**"
      ]
    },
    {
      "cell_type": "markdown",
      "metadata": {
        "id": "9LEmHNmuA48K"
      },
      "source": [
        "![image.png](data:image/png;base64,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)"
      ]
    },
    {
      "cell_type": "markdown",
      "metadata": {
        "id": "ZbHRVBRBEpwj"
      },
      "source": [
        "**Calculates Sum of Weighted input**\n",
        " \n"
      ]
    },
    {
      "cell_type": "code",
      "metadata": {
        "id": "FNLvUo7pEMup"
      },
      "source": [
        "def linear_forward(A, W, b):\n",
        "    \"\"\"\n",
        "    Input Parameters\n",
        "    A ==> activations/Input from the  previous layer of dimension (size of previous layer, number of examples)\n",
        "    W ==> weights matrix of dimension (size of current layer, size of previous layer)\n",
        "    b ==> bias vector of dimension (size of the current layer, 1)\n",
        "    \n",
        "    Output Parameter\n",
        "    Z ==> Weighted sum of activation of previous layer and the input to the activation \n",
        "    cache ==> return a tuple storing the input that were passed to calculate Z .This will be used in calculating gradient \n",
        "\n",
        "    \"\"\"\n",
        "    Z = np.dot(W,A) + b\n",
        "    cache = (A, W, b)\n",
        "    assert(Z.shape == (W.shape[0], A.shape[1]))\n",
        "    return Z, cache #(A,W,b)"
      ],
      "execution_count": 25,
      "outputs": []
    },
    {
      "cell_type": "markdown",
      "metadata": {
        "id": "GTQPodWfF7p9"
      },
      "source": [
        "### **Applying Activation function**"
      ]
    },
    {
      "cell_type": "markdown",
      "metadata": {
        "id": "KFrwRPDjE1iy"
      },
      "source": [
        "**Applies the desired Activation function to the input  A=g(Z)=g(W*A_prev+b)  where the activation \"g\" can be sigmoid(), relu() or softmax()**"
      ]
    },
    {
      "cell_type": "code",
      "metadata": {
        "id": "zWXFNH81EfiP"
      },
      "source": [
        "def linear_activation_forward(A_prev, W, b, activation):\n",
        "    \"\"\"\n",
        "    Input Parameters\n",
        "    A_prev ==> activations/Input from the  previous layer of dimension (size of previous layer, number of examples)\n",
        "    W ==> weights matrix of dimension (size of current layer, size of previous layer)\n",
        "    b ==> bias vector of dimension (size of the current layer, 1)\n",
        "    activation ==> Choice of Activation function\n",
        "    \n",
        "    Output Parameter\n",
        "    A ==> The output of the activation function \n",
        "    cache ==> return a tuple storing the input that were passed to Linear_forward function and Activation funciton \n",
        "\n",
        "    \"\"\"\n",
        "    if activation == \"sigmoid\":\n",
        "      Z, linear_cache = linear_forward(A_prev, W, b)\n",
        "      A, activation_cache = sigmoid(Z)\n",
        "\n",
        "\n",
        "    elif activation == \"relu\":\n",
        "      Z, linear_cache = linear_forward(A_prev, W, b)\n",
        "      A, activation_cache = relu(Z) \n",
        "\n",
        "\n",
        "    elif activation == \"softmax\":\n",
        "      Z, linear_cache = linear_forward(A_prev, W, b)\n",
        "      A, activation_cache = softmax(Z)\n",
        "\n",
        "    cache = (linear_cache, activation_cache)\n",
        "    \n",
        "    return A, cache  #(A,W,b),(Z)"
      ],
      "execution_count": 26,
      "outputs": []
    },
    {
      "cell_type": "code",
      "metadata": {
        "id": "0t5YxNX6q_kw"
      },
      "source": [
        "\n",
        "def L_model_forward(X, parameters):\n",
        "    \"\"\"\n",
        "    Implement forward propagation for the [LINEAR->RELU]*(L-1)->LINEAR->SIGMOID computation\n",
        "    \n",
        "    Arguments:\n",
        "    X -- data, numpy array of shape (input size, number of examples)\n",
        "    parameters -- output of initialize_parameters_deep()\n",
        "    \n",
        "    Returns:\n",
        "    AL -- last post-activation value\n",
        "    caches -- list of caches containing:\n",
        "                every cache of linear_relu_forward() (there are L-1 of them, indexed from 0 to L-2)\n",
        "                the cache of linear_sigmoid_forward() (there is one, indexed L-1)\n",
        "    \"\"\"\n",
        "\n",
        "    caches = []\n",
        "    A = X\n",
        "    L = len(parameters) // 2                  # number of layers in the neural network\n",
        "    \n",
        "        \n",
        "    # Implement [LINEAR -> RELU]*(L-1). Add \"cache\" to the \"caches\" list.\n",
        "    for l in range(1, L):\n",
        "        A_prev = A \n",
        "        \n",
        "        A, cache = linear_activation_forward(A_prev, parameters['W' + str(l)], parameters['b' + str(l)], activation = \"relu\")\n",
        "        caches.append(cache)\n",
        "        \n",
        "       \n",
        "    \n",
        "    # Implement LINEAR -> SIGMOID. Add \"cache\" to the \"caches\" list.\n",
        "    \n",
        "    AL, cache = linear_activation_forward(A, parameters['W' + str(L)], parameters['b' + str(L)], activation = \"sigmoid\")\n",
        "    caches.append(cache)\n",
        "    \n",
        "    \n",
        "    #assert(AL.shape == (1,X.shape[1]))\n",
        "            \n",
        "    return AL, caches"
      ],
      "execution_count": 27,
      "outputs": []
    },
    {
      "cell_type": "markdown",
      "metadata": {
        "id": "GcBqFQGad-Dx"
      },
      "source": [
        "### **Cost function**"
      ]
    },
    {
      "cell_type": "markdown",
      "metadata": {
        "id": "1QPsJ5dodw15"
      },
      "source": [
        "![image.png](data:image/png;base64,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)"
      ]
    },
    {
      "cell_type": "code",
      "metadata": {
        "id": "IfSyMNL1EvJ-"
      },
      "source": [
        "def compute_cost(AL, Y):\n",
        "    \"\"\"\n",
        "    Input Parameters\n",
        "    AL ==> activation output by the last layer/ Class prediction by our model\n",
        "    Y  ==> Actual output/Label for comparision\n",
        "    \n",
        "    Output Parameter\n",
        "    Cost ==> cost/loss calculated between our predicted output and original output\n",
        "\n",
        "    \"\"\"\n",
        "    m = Y.shape[1]\n",
        "    # m ==> count of Training examples \n",
        "    cost = (-1 / m) * np.sum(np.multiply(Y, np.log(AL)) + np.multiply(1 - Y, np.log(1 - AL)))\n",
        "    return cost"
      ],
      "execution_count": 28,
      "outputs": []
    },
    {
      "cell_type": "markdown",
      "metadata": {
        "id": "gye3zsmaGDmP"
      },
      "source": [
        "## **BackPropagation Module**"
      ]
    },
    {
      "cell_type": "markdown",
      "metadata": {
        "id": "xUESJ9aXS_C8"
      },
      "source": [
        "In Backward propagation, we calculate the gradient of the loss function with respect to the parameters.\n",
        "####**Implementation of helper functions for backpropagation**"
      ]
    },
    {
      "cell_type": "markdown",
      "metadata": {
        "id": "IF6dyVp8GVpz"
      },
      "source": [
        "### **Linear Backward**"
      ]
    },
    {
      "cell_type": "markdown",
      "metadata": {
        "id": "MaaWl7LYVx9m"
      },
      "source": [
        "In the function linear backward, dW for layer l , db for some layer l and dA for previous layer are calculated using:  "
      ]
    },
    {
      "cell_type": "markdown",
      "metadata": {
        "id": "Ek1uNckOVtLY"
      },
      "source": [
        "![image.png](data:image/png;base64,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)"
      ]
    },
    {
      "cell_type": "code",
      "metadata": {
        "id": "tx36Pwf7EzLl"
      },
      "source": [
        "def linear_backward(dZ, cache):\n",
        "    \"\"\"\n",
        "    Input Parameters:\n",
        "    dZ ==> Gradient of the cost with respect to the linear output \n",
        "    cache ==> tuple of values (A_prev, W, b) coming from the forward propagation in the current layer\n",
        "\n",
        "    Output:\n",
        "    dA_prev ==> Gradient of the cost with respect to the activation (of the previous layer l-1)\n",
        "    dW ==> Gradient of the cost with respect to W (current layer l)\n",
        "    db ==> Gradient of the cost with respect to b (current layer l)\n",
        "    \"\"\"\n",
        "    A_prev, W, b = cache\n",
        "    m = A_prev.shape[1]\n",
        "    dW = 1./m * np.dot(dZ,A_prev.T)  \n",
        "    db = (1/m)*np.sum(dZ, axis=1, keepdims=True);\n",
        "    dA_prev = np.dot(W.T,dZ)\n",
        "    return dA_prev, dW, db"
      ],
      "execution_count": 29,
      "outputs": []
    },
    {
      "cell_type": "markdown",
      "metadata": {
        "id": "cCHe-hAdGaJF"
      },
      "source": [
        "### **Linear Activation Backward**"
      ]
    },
    {
      "cell_type": "markdown",
      "metadata": {
        "id": "QP904doQYWB0"
      },
      "source": [
        "To implement linear_activation_backward, we have used three backward functions:\n",
        "\n",
        "\n",
        "*   relu_backward : Implements the backward propagation for RELU unit\n",
        "*   sigmoid_backward: Implements the backward propagation for SIGMOID unit\n",
        "*   softmax_backward: Implements the backward propagation for SOFTMAX unit\n",
        "\n",
        "If  g(.)  is the activation function, sigmoid_backward and relu_backward compute\n",
        "\n",
        "![image.png](data:image/png;base64,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)\n",
        "\n",
        "\n",
        "\n",
        "\n"
      ]
    },
    {
      "cell_type": "code",
      "metadata": {
        "id": "Ldinyuv0E9Wm"
      },
      "source": [
        "def linear_activation_backward(dA, cache, activation):\n",
        "    \"\"\"\n",
        "    Linear->Activation (for Backpropagation)\n",
        "    \n",
        "    Input Parameters:\n",
        "    dA ==> post-activation gradient for current layer l\n",
        "    cache ==> tuple of values (linear_cache, activation_cache) for computing backward propagation \n",
        "    activation ==> the activation function to be used \n",
        "    \n",
        "    Output:\n",
        "    dA_prev ==> Gradient of the cost with respect to the activation (of the previous layer l-1)\n",
        "    dW ==> Gradient of the cost with respect to W (current layer l)\n",
        "    db ==> Gradient of the cost with respect to b (current layer l)\n",
        "    \"\"\"\n",
        "    linear_cache, activation_cache = cache\n",
        "    \n",
        "    if activation == \"relu\":\n",
        "        dZ = relu_backward(dA, activation_cache)\n",
        "        dA_prev, dW, db = linear_backward(dZ, linear_cache)  \n",
        "\n",
        "    elif activation == \"sigmoid\":\n",
        "        dZ = sigmoid_backward(dA, activation_cache)\n",
        "        dA_prev, dW, db = linear_backward(dZ, linear_cache)\n",
        "\n",
        "    elif activation == \"softmax\":\n",
        "        dZ = softmax_backward(dA, activation_cache)\n",
        "        dA_prev, dW, db = linear_backward(dZ, linear_cache)\n",
        "\n",
        "    return dA_prev, dW, db"
      ],
      "execution_count": 30,
      "outputs": []
    },
    {
      "cell_type": "code",
      "metadata": {
        "id": "rDzS2ujUre0v"
      },
      "source": [
        "def L_model_backward(AL, Y, caches):\n",
        "   \n",
        "    grads = {}\n",
        "    L = len(caches) # the number of layers\n",
        "    m = AL.shape[1]\n",
        "    Y = Y.reshape(AL.shape) # after this line, Y is the same shape as AL\n",
        "    \n",
        "    # Initializing the backpropagation\n",
        "    \n",
        "    dAL = - (np.divide(Y, AL) - np.divide(1 - Y, 1 - AL))\n",
        "   \n",
        "    \n",
        "    # Lth layer (SIGMOID -> LINEAR) gradients. Inputs: \"AL, Y, caches\". Outputs: \"grads[\"dAL\"], grads[\"dWL\"], grads[\"dbL\"]\n",
        "   \n",
        "    current_cache = caches[L-1]\n",
        "    grads[\"dA\" + str(L)], grads[\"dW\" + str(L)], grads[\"db\" + str(L)] = linear_activation_backward(dAL, current_cache, activation = \"sigmoid\")\n",
        "   \n",
        "    \n",
        "    for l in reversed(range(L-1)):\n",
        "        # lth layer: (RELU -> LINEAR) gradients.\n",
        "        # Inputs: \"grads[\"dA\" + str(l + 2)], caches\". Outputs: \"grads[\"dA\" + str(l + 1)] , grads[\"dW\" + str(l + 1)] , grads[\"db\" + str(l + 1)] \n",
        "        \n",
        "        current_cache = caches[l]\n",
        "        dA_prev_temp, dW_temp, db_temp = linear_activation_backward(grads[\"dA\" + str(l + 2)],  current_cache, activation = \"relu\")\n",
        "        grads[\"dA\" + str(l + 1)] = dA_prev_temp\n",
        "        grads[\"dW\" + str(l + 1)] = dW_temp\n",
        "        grads[\"db\" + str(l + 1)] = db_temp\n",
        "        \n",
        "\n",
        "    return grads"
      ],
      "execution_count": 31,
      "outputs": []
    },
    {
      "cell_type": "markdown",
      "metadata": {
        "id": "8uDcRN3QGmHe"
      },
      "source": [
        "## **Updating parameters**\n",
        "\n",
        "Updating parameters of the model using gradient descent for every W and b for each layer l:\n",
        "\n",
        "![image.png](data:image/png;base64,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)\n",
        "\n",
        "α: learning rate.\n"
      ]
    },
    {
      "cell_type": "code",
      "metadata": {
        "id": "Sr5NuxITFHlP",
        "colab": {
          "base_uri": "https://localhost:8080/",
          "height": 88
        },
        "outputId": "558000ea-7377-4ee9-fc39-02dd466fa11a"
      },
      "source": [
        "'''def update_parameters(parameters, grads, learning_rate):\n",
        "    \"\"\"\n",
        "    Input Parameters:\n",
        "    parameters ==> dictionary containing parameters \n",
        "    grads ==>  dictionary containing gradients\n",
        "    \n",
        "    Output:\n",
        "    parameters ==> dictionary of updated parameters \n",
        "    \"\"\"\n",
        "    for l in range(len_update-1):\n",
        "        parameters[\"W\" + str(l+1)] =parameters[\"W\" + str(l+1)] - (learning_rate*grads[\"dW\" + str(l+1)])\n",
        "        parameters[\"b\" + str(l+1)] = parameters[\"b\" + str(l+1)] - (learning_rate*grads[\"db\" + str(l+1)])\n",
        "    return parameters\n",
        "    '''"
      ],
      "execution_count": 32,
      "outputs": [
        {
          "output_type": "execute_result",
          "data": {
            "application/vnd.google.colaboratory.intrinsic+json": {
              "type": "string"
            },
            "text/plain": [
              "'def update_parameters(parameters, grads, learning_rate):\\n    \"\"\"\\n    Input Parameters:\\n    parameters ==> dictionary containing parameters \\n    grads ==>  dictionary containing gradients\\n    \\n    Output:\\n    parameters ==> dictionary of updated parameters \\n    \"\"\"\\n    for l in range(len_update-1):\\n        parameters[\"W\" + str(l+1)] =parameters[\"W\" + str(l+1)] - (learning_rate*grads[\"dW\" + str(l+1)])\\n        parameters[\"b\" + str(l+1)] = parameters[\"b\" + str(l+1)] - (learning_rate*grads[\"db\" + str(l+1)])\\n    return parameters\\n    '"
            ]
          },
          "metadata": {
            "tags": []
          },
          "execution_count": 32
        }
      ]
    },
    {
      "cell_type": "code",
      "metadata": {
        "id": "O5_ryOMirmgz"
      },
      "source": [
        "def update_parameters(parameters, grads, learning_rate):\n",
        "    \"\"\"\n",
        "    Update parameters using gradient descent\n",
        "    \n",
        "    Arguments:\n",
        "    parameters -- python dictionary containing your parameters \n",
        "    grads -- python dictionary containing your gradients, output of L_model_backward\n",
        "    \n",
        "    Returns:\n",
        "    parameters -- python dictionary containing your updated parameters \n",
        "                  parameters[\"W\" + str(l)] = ... \n",
        "                  parameters[\"b\" + str(l)] = ...\n",
        "    \"\"\"\n",
        "    \n",
        "    L = len(parameters) // 2 # number of layers in the neural network\n",
        "\n",
        "    # Update rule for each parameter. Use a for loop.\n",
        "    \n",
        "    for l in range(L):\n",
        "        parameters[\"W\" + str(l+1)] = parameters[\"W\" + str(l+1)] - learning_rate * grads[\"dW\" + str(l + 1)]\n",
        "        parameters[\"b\" + str(l+1)] = parameters[\"b\" + str(l+1)] - learning_rate * grads[\"db\" + str(l + 1)]\n",
        "   \n",
        "        \n",
        "    return parameters"
      ],
      "execution_count": 33,
      "outputs": []
    },
    {
      "cell_type": "markdown",
      "metadata": {
        "id": "1S61pZWsHKOY"
      },
      "source": [
        "## **Hyperparameters**"
      ]
    },
    {
      "cell_type": "code",
      "metadata": {
        "id": "42_DYWMIFWll",
        "colab": {
          "base_uri": "https://localhost:8080/",
          "height": 53
        },
        "outputId": "c79ad105-2bfa-4ce3-a299-b7371d20cd67"
      },
      "source": [
        "'''#defining structure of neural network\n",
        "layers_dims = (784,15,10) \n",
        "len_update=len(layers_dims)\n",
        "inputL = 784     # num_px * num_px * 3\n",
        "hiddenL = 15\n",
        "outputL = 10\n",
        "layers_dims = (inputL, hiddenL, outputL)'''"
      ],
      "execution_count": 34,
      "outputs": [
        {
          "output_type": "execute_result",
          "data": {
            "application/vnd.google.colaboratory.intrinsic+json": {
              "type": "string"
            },
            "text/plain": [
              "'#defining structure of neural network\\nlayers_dims = (784,15,10) \\nlen_update=len(layers_dims)\\ninputL = 784     # num_px * num_px * 3\\nhiddenL = 15\\noutputL = 10\\nlayers_dims = (inputL, hiddenL, outputL)'"
            ]
          },
          "metadata": {
            "tags": []
          },
          "execution_count": 34
        }
      ]
    },
    {
      "cell_type": "code",
      "metadata": {
        "id": "u7p1cDj8uFTi"
      },
      "source": [
        "\n",
        "# Model Configuration\n",
        "# len(layer_dims), will be no. of layers with Input & Output layers\n",
        "layer_dims=[784, 60, 10, 10]\n",
        "\n",
        "learning_rate=0.005\n",
        "\n",
        "# No. of Gradient Descent Iterations\n",
        "num_itr=10000"
      ],
      "execution_count": 35,
      "outputs": []
    },
    {
      "cell_type": "markdown",
      "metadata": {
        "id": "moIZMcVI5LUx"
      },
      "source": [
        "## **Model Function**"
      ]
    },
    {
      "cell_type": "code",
      "metadata": {
        "id": "W-99brOV3ApX",
        "colab": {
          "base_uri": "https://localhost:8080/",
          "height": 142
        },
        "outputId": "39bbbc93-f35a-4e85-d27b-a7402d23fa2f"
      },
      "source": [
        "\n",
        "'''def two_layer_model(X, Y, layers_dims, learning_rate=0.0075, num_iterations=3000, print_cost=False):\n",
        "    \"\"\"\n",
        "    Network Architechture: LINEAR->RELU->LINEAR->SIGMOID.\n",
        "    \n",
        "    Arguments:\n",
        "    X ==> input data, shape (inputL, number of examples)\n",
        "    Y ==> true \"label\" vector (containing 0 if cat, 1 if non-cat), shape (1, number of examples)\n",
        "    layers_dims ==> dimensions of the layers (inputL, hiddenL, outputL)\n",
        "    num_iterations ==> number of iterations of the optimization loop\n",
        "    learning_rate ==> learning rate of the gradient descent update rule\n",
        "    print_cost ==> If set to True, it will print the cost after every 100 iterations \n",
        "    \n",
        "    Returns:\n",
        "    parameters ==> dictionary containing W1, W2, b1, and b2\n",
        "    \"\"\"\n",
        "  \n",
        "    grads = {}\n",
        "    costs = []                              # to keep track of the cost\n",
        "    m = X.shape[1]                           # number of examples\n",
        "    (n_x, n_h, n_y) = layers_dims\n",
        "    \n",
        "    #Initializing dictionary parameters\n",
        "\n",
        "    parameters = initialize_parameters(n_x, n_h, n_y)\n",
        "        \n",
        "    # Get W1, b1, W2 and b2 from the dictionary parameters.\n",
        "    W1 = parameters[\"W1\"]\n",
        "    b1 = parameters[\"b1\"]\n",
        "    W2 = parameters[\"W2\"]\n",
        "    b2 = parameters[\"b2\"]\n",
        "    \n",
        "    # Loop (gradient descent)\n",
        "\n",
        "    for i in range(0, num_iterations):\n",
        "\n",
        "        # Forward propagation: LINEAR -> RELU -> LINEAR -> SIGMOID. Inputs: \"X, W1, b1\". Output: \"A1, cache1, A2, cache2\".\n",
        "        \n",
        "        A1, cache1 = linear_activation_forward(X, W1, b1, 'relu')\n",
        "        A2, cache2 = linear_activation_forward(A1, W2, b2, 'sigmoid')\n",
        "\n",
        "        \n",
        "        # Calculating cost\n",
        "        cost = compute_cost(A2, Y)\n",
        "        \n",
        "        # Initializing backward propagation\n",
        "        dA2 = - (np.divide(Y, A2) - np.divide(1 - Y, 1 - A2))\n",
        "        \n",
        "        # Backward propagation. Inputs: \"dA2, cache2, cache1\". Outputs: \"dA1, dW2, db2; also dA0 (not used), dW1, db1\".\n",
        "        \n",
        "        dA1, dW2, db2 = linear_activation_backward(dA2, cache2, 'sigmoid')\n",
        "        dA0, dW1, db1 = linear_activation_backward(dA1, cache1, 'relu')\n",
        "                \n",
        "        # Set grads['dWl'] to dW1, grads['db1'] to db1, grads['dW2'] to dW2, grads['db2'] to db2\n",
        "        grads['dW1'] = dW1\n",
        "        grads['db1'] = db1\n",
        "        grads['dW2'] = dW2\n",
        "        grads['db2'] = db2\n",
        "        \n",
        "        # Update parameters.\n",
        "        \n",
        "        parameters = update_parameters(parameters, grads, learning_rate)\n",
        "        \n",
        "        # Retrieve W1, b1, W2, b2 from parameters\n",
        "        W1 = parameters[\"W1\"]\n",
        "        b1 = parameters[\"b1\"]\n",
        "        W2 = parameters[\"W2\"]\n",
        "        b2 = parameters[\"b2\"]\n",
        "        \n",
        "        # Print the cost every 100 training example\n",
        "        if print_cost and i % 100 == 0:\n",
        "            print(\"Cost after iteration {}: {}\".format(i, np.squeeze(cost)))\n",
        "        if print_cost and i % 100 == 0:\n",
        "            costs.append(cost)\n",
        "       \n",
        "    #Plotting graph\n",
        "    plt.plot(np.squeeze(costs))\n",
        "    plt.ylabel('cost')\n",
        "    plt.xlabel('iterations (per hundred)')\n",
        "    plt.title(\"Learning rate =\" + str(learning_rate))\n",
        "    plt.show()\n",
        "    \n",
        "    return parameters '''"
      ],
      "execution_count": 36,
      "outputs": [
        {
          "output_type": "execute_result",
          "data": {
            "application/vnd.google.colaboratory.intrinsic+json": {
              "type": "string"
            },
            "text/plain": [
              "'def two_layer_model(X, Y, layers_dims, learning_rate=0.0075, num_iterations=3000, print_cost=False):\\n    \"\"\"\\n    Network Architechture: LINEAR->RELU->LINEAR->SIGMOID.\\n    \\n    Arguments:\\n    X ==> input data, shape (inputL, number of examples)\\n    Y ==> true \"label\" vector (containing 0 if cat, 1 if non-cat), shape (1, number of examples)\\n    layers_dims ==> dimensions of the layers (inputL, hiddenL, outputL)\\n    num_iterations ==> number of iterations of the optimization loop\\n    learning_rate ==> learning rate of the gradient descent update rule\\n    print_cost ==> If set to True, it will print the cost after every 100 iterations \\n    \\n    Returns:\\n    parameters ==> dictionary containing W1, W2, b1, and b2\\n    \"\"\"\\n  \\n    grads = {}\\n    costs = []                              # to keep track of the cost\\n    m = X.shape[1]                           # number of examples\\n    (n_x, n_h, n_y) = layers_dims\\n    \\n    #Initializing dictionary parameters\\n\\n    parameters = initialize_parameters(n_x, n_h, n_y)\\n        \\n    # Get W1, b1, W2 and b2 from the dictionary parameters.\\n    W1 = parameters[\"W1\"]\\n    b1 = parameters[\"b1\"]\\n    W2 = parameters[\"W2\"]\\n    b2 = parameters[\"b2\"]\\n    \\n    # Loop (gradient descent)\\n\\n    for i in range(0, num_iterations):\\n\\n        # Forward propagation: LINEAR -> RELU -> LINEAR -> SIGMOID. Inputs: \"X, W1, b1\". Output: \"A1, cache1, A2, cache2\".\\n        \\n        A1, cache1 = linear_activation_forward(X, W1, b1, \\'relu\\')\\n        A2, cache2 = linear_activation_forward(A1, W2, b2, \\'sigmoid\\')\\n\\n        \\n        # Calculating cost\\n        cost = compute_cost(A2, Y)\\n        \\n        # Initializing backward propagation\\n        dA2 = - (np.divide(Y, A2) - np.divide(1 - Y, 1 - A2))\\n        \\n        # Backward propagation. Inputs: \"dA2, cache2, cache1\". Outputs: \"dA1, dW2, db2; also dA0 (not used), dW1, db1\".\\n        \\n        dA1, dW2, db2 = linear_activation_backward(dA2, cache2, \\'sigmoid\\')\\n        dA0, dW1, db1 = linear_activation_backward(dA1, cache1, \\'relu\\')\\n                \\n        # Set grads[\\'dWl\\'] to dW1, grads[\\'db1\\'] to db1, grads[\\'dW2\\'] to dW2, grads[\\'db2\\'] to db2\\n        grads[\\'dW1\\'] = dW1\\n        grads[\\'db1\\'] = db1\\n        grads[\\'dW2\\'] = dW2\\n        grads[\\'db2\\'] = db2\\n        \\n        # Update parameters.\\n        \\n        parameters = update_parameters(parameters, grads, learning_rate)\\n        \\n        # Retrieve W1, b1, W2, b2 from parameters\\n        W1 = parameters[\"W1\"]\\n        b1 = parameters[\"b1\"]\\n        W2 = parameters[\"W2\"]\\n        b2 = parameters[\"b2\"]\\n        \\n        # Print the cost every 100 training example\\n        if print_cost and i % 100 == 0:\\n            print(\"Cost after iteration {}: {}\".format(i, np.squeeze(cost)))\\n        if print_cost and i % 100 == 0:\\n            costs.append(cost)\\n       \\n    #Plotting graph\\n    plt.plot(np.squeeze(costs))\\n    plt.ylabel(\\'cost\\')\\n    plt.xlabel(\\'iterations (per hundred)\\')\\n    plt.title(\"Learning rate =\" + str(learning_rate))\\n    plt.show()\\n    \\n    return parameters '"
            ]
          },
          "metadata": {
            "tags": []
          },
          "execution_count": 36
        }
      ]
    },
    {
      "cell_type": "code",
      "metadata": {
        "id": "FDUIu_xLt2Dj"
      },
      "source": [
        "def image_classifier(X, Y, layer_dims, learning_rate, num_itr, parameters, initialize=False):\n",
        "    ''' Implements a L-layer NN: \n",
        "    [Linear->Relu] *(L-1)times  ->  [Linear->Sigmoid] \n",
        "    \n",
        "    X: Input data(Images) (Height*Weidth*3 , no. of examples)\n",
        "    Y: True labels, consist of 0/1      (1, no. of examples)\n",
        "    layer_dims: list, where each value is no. of units.\n",
        "    learning_rate: for parameters update\n",
        "    num_itr: no. of iterations of Gradient Descent\n",
        "    \n",
        "    Returs:\n",
        "    parameters: parameters learnt during Model Training.\n",
        "    '''\n",
        "    costs=[]\n",
        "    \n",
        "    if initialize:\n",
        "        parameters = initialize_parameters_deep(layer_dims)\n",
        "    \n",
        "   \n",
        "    # Gradient Descent\n",
        "    for i in range(num_itr):\n",
        "        \n",
        "        # Forward propagation: [LINEAR -> RELU]*(L-1) -> LINEAR -> SIGMOID\n",
        "        y_hat, caches = L_model_forward(X, parameters)\n",
        "\n",
        "        # Compute Cost\n",
        "        cost = compute_cost(y_hat, Y)\n",
        "\n",
        "        # Backward propagation\n",
        "        grads = L_model_backward(y_hat, Y, caches)\n",
        "\n",
        "        # Update Parameters\n",
        "        parameters = update_parameters(parameters, grads, learning_rate)\n",
        "        \n",
        "        if i%100 ==0:\n",
        "            print(f\"cost {i}: {np.squeeze(cost)}\")\n",
        "        if i%100 ==0:\n",
        "            costs.append(cost)\n",
        "\n",
        "    # Ploting the Cost\n",
        "    plt.plot(costs)\n",
        "    plt.xlabel(\"n iteration\")\n",
        "    plt.ylabel(\"cost\")\n",
        "    \n",
        "    return parameters"
      ],
      "execution_count": 37,
      "outputs": []
    },
    {
      "cell_type": "code",
      "metadata": {
        "id": "hQIvt4M1FcuC",
        "colab": {
          "base_uri": "https://localhost:8080/",
          "height": 53
        },
        "outputId": "4d0efec5-5f24-4a61-e60b-d2b2e93d8b3e"
      },
      "source": [
        "'''#variable parameter in network learning_rate, iterations \n",
        "parameters = two_layer_model(train_data, train_label, layers_dims,learning_rate=0.0005, num_iterations=3000, print_cost=True) \n",
        "print(\"training done\")'''"
      ],
      "execution_count": 38,
      "outputs": [
        {
          "output_type": "execute_result",
          "data": {
            "application/vnd.google.colaboratory.intrinsic+json": {
              "type": "string"
            },
            "text/plain": [
              "'#variable parameter in network learning_rate, iterations \\nparameters = two_layer_model(train_data, train_label, layers_dims,learning_rate=0.0005, num_iterations=3000, print_cost=True) \\nprint(\"training done\")'"
            ]
          },
          "metadata": {
            "tags": []
          },
          "execution_count": 38
        }
      ]
    },
    {
      "cell_type": "code",
      "metadata": {
        "id": "jkT7xzlHzkPG",
        "colab": {
          "base_uri": "https://localhost:8080/",
          "height": 1000
        },
        "outputId": "ff9202f5-9770-41a3-ba80-addf0a048013"
      },
      "source": [
        "parameters=image_classifier(train_data, train_label, layer_dims, 0.005, 10000, 0, initialize=True)"
      ],
      "execution_count": 40,
      "outputs": [
        {
          "output_type": "stream",
          "text": [
            "cost 0: 6.978551110625735\n",
            "cost 100: 3.261441279249\n",
            "cost 200: 3.2541434553302966\n",
            "cost 300: 3.246158330262362\n",
            "cost 400: 3.233354930236682\n",
            "cost 500: 3.2092467768762782\n",
            "cost 600: 3.1645506682516666\n",
            "cost 700: 3.1064322766292225\n",
            "cost 800: 3.0571277868806597\n",
            "cost 900: 2.9513700410169794\n",
            "cost 1000: 2.8754302062365107\n",
            "cost 1100: 2.7146416627275505\n",
            "cost 1200: 2.749778672953645\n",
            "cost 1300: 2.360903919499898\n",
            "cost 1400: 2.3926418557213345\n",
            "cost 1500: 2.3861163191994117\n",
            "cost 1600: 1.7378738613393767\n",
            "cost 1700: 1.6420111806379032\n",
            "cost 1800: 1.48754219382624\n",
            "cost 1900: 1.4269858228597856\n",
            "cost 2000: 2.001311140350493\n",
            "cost 2100: 1.1510145531675877\n",
            "cost 2200: 1.9225021627289063\n",
            "cost 2300: 0.7533461764714675\n",
            "cost 2400: 1.4660812831921146\n",
            "cost 2500: 1.3457789033116592\n",
            "cost 2600: 0.6212427977158623\n",
            "cost 2700: 0.4043432359609145\n",
            "cost 2800: 0.17918819948124323\n",
            "cost 2900: 0.15387046672116308\n",
            "cost 3000: 0.11265624714250498\n",
            "cost 3100: 0.08640320052904621\n",
            "cost 3200: 0.0695243303556602\n",
            "cost 3300: 0.05765051171172346\n",
            "cost 3400: 0.04934829070403916\n",
            "cost 3500: 0.04278700253524475\n",
            "cost 3600: 0.03760420231724188\n",
            "cost 3700: 0.03341367318233338\n",
            "cost 3800: 0.0299717563564476\n",
            "cost 3900: 0.027067501065853074\n",
            "cost 4000: 0.02467391039007202\n",
            "cost 4100: 0.022614160502624114\n",
            "cost 4200: 0.02081814317854018\n",
            "cost 4300: 0.019225903122057936\n",
            "cost 4400: 0.01784390893567165\n",
            "cost 4500: 0.0166440746251613\n",
            "cost 4600: 0.015583325563311523\n",
            "cost 4700: 0.014626861536183713\n",
            "cost 4800: 0.013771743586737797\n",
            "cost 4900: 0.013000564591577123\n",
            "cost 5000: 0.012301479592850138\n",
            "cost 5100: 0.01166405013819318\n",
            "cost 5200: 0.011082204572460085\n",
            "cost 5300: 0.010551765378692044\n",
            "cost 5400: 0.010074882705495685\n",
            "cost 5500: 0.009617545339581677\n",
            "cost 5600: 0.009205050475754298\n",
            "cost 5700: 0.008821809873662129\n",
            "cost 5800: 0.008466279764873966\n",
            "cost 5900: 0.008136424290893942\n",
            "cost 6000: 0.007825141679563873\n",
            "cost 6100: 0.007537113241718794\n",
            "cost 6200: 0.0072695686113022195\n",
            "cost 6300: 0.0070152764771515\n",
            "cost 6400: 0.006776660792008021\n",
            "cost 6500: 0.006552918690310115\n",
            "cost 6600: 0.006344152133899784\n",
            "cost 6700: 0.006144178070193199\n",
            "cost 6800: 0.005956006212107611\n",
            "cost 6900: 0.005778760110631877\n",
            "cost 7000: 0.005613602266007606\n",
            "cost 7100: 0.005449578133568764\n",
            "cost 7200: 0.005298328232038074\n",
            "cost 7300: 0.005153663177752472\n",
            "cost 7400: 0.005013555038553131\n",
            "cost 7500: 0.004884768920969843\n",
            "cost 7600: 0.004757377681546463\n",
            "cost 7700: 0.004636637677590903\n",
            "cost 7800: 0.00452377195433099\n",
            "cost 7900: 0.004412072398416129\n",
            "cost 8000: 0.004307200843758219\n",
            "cost 8100: 0.004205970629453109\n",
            "cost 8200: 0.004109267705104066\n",
            "cost 8300: 0.004017611269349406\n",
            "cost 8400: 0.003923323214802996\n",
            "cost 8500: 0.003835188699692335\n",
            "cost 8600: 0.00375270757644835\n",
            "cost 8700: 0.0036717051762104156\n",
            "cost 8800: 0.0035946669747201534\n",
            "cost 8900: 0.0035209235820890306\n",
            "cost 9000: 0.0034503818843722393\n",
            "cost 9100: 0.0033804331511662735\n",
            "cost 9200: 0.003314860728444544\n",
            "cost 9300: 0.003250717287990536\n",
            "cost 9400: 0.003188614003439777\n",
            "cost 9500: 0.0031283047210745\n",
            "cost 9600: 0.003070751651596818\n",
            "cost 9700: 0.003014726526363523\n",
            "cost 9800: 0.0029608574253572936\n",
            "cost 9900: 0.002908081716261785\n"
          ],
          "name": "stdout"
        },
        {
          "output_type": "display_data",
          "data": {
            "image/png": "[encoded data removed]",
            "text/plain": [
              "<Figure size 432x288 with 1 Axes>"
            ]
          },
          "metadata": {
            "tags": [],
            "needs_background": "light"
          }
        }
      ]
    },
    {
      "cell_type": "code",
      "metadata": {
        "colab": {
          "base_uri": "https://localhost:8080/"
        },
        "id": "ouR4lU_HBx7L",
        "outputId": "37fcfb6a-486f-4271-e1f4-292e428930d1"
      },
      "source": [
        "def predict_L_layer(X,parameters):\n",
        "    AL,caches=L_model_forward(X,parameters)\n",
        "    prediction=np.argmax(AL,axis=0)\n",
        "    return prediction.reshape(1,prediction.shape[0])\n",
        "validation=np.reshape([validation],[784,10])\n",
        "predictions_test_L = predict_L_layer(validation, parameters)\n",
        "label=[[1,9,6,7,0,2,4,5,3,8]]\n",
        "\n",
        "predictions_test_L = predict_L_layer(validation, parameters)\n",
        "print(\"Labels:\", label)\n",
        "print(\"Predicted:\",predictions_test_L)"
      ],
      "execution_count": 41,
      "outputs": [
        {
          "output_type": "stream",
          "text": [
            "Labels: [[1, 9, 6, 7, 0, 2, 4, 5, 3, 8]]\n",
            "Predicted: [[5 4 8 8 4 9 6 6 7 6]]\n"
          ],
          "name": "stdout"
        }
      ]
    }
  ]
}